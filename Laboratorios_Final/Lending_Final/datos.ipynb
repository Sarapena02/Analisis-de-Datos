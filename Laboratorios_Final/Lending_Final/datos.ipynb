{
 "cells": [
  {
   "cell_type": "code",
   "id": "initial_id",
   "metadata": {
    "collapsed": true,
    "jupyter": {
     "is_executing": true
    }
   },
   "source": "pip install pandas",
   "outputs": [],
   "execution_count": null
  },
  {
   "metadata": {},
   "cell_type": "code",
   "outputs": [],
   "execution_count": null,
   "source": [
    "import zipfile\n",
    "import pandas as pd\n",
    "\n",
    "# Ruta al archivo ZIP\n",
    "zip_path = \"accepted_2007_to_2018Q4.zip\"  # Asegúrate de que el archivo esté en tu misma carpeta\n",
    "\n",
    "# Extraer el nombre del archivo CSV dentro del ZIP\n",
    "with zipfile.ZipFile(zip_path, 'r') as zip_ref:\n",
    "    file_names = zip_ref.namelist()\n",
    "    csv_name = next((name for name in file_names if name.endswith('.csv')), None)\n",
    "\n",
    "# Leer una muestra del archivo CSV (1000 filas para no sobrecargar la RAM)\n",
    "if csv_name:\n",
    "    with zipfile.ZipFile(zip_path, 'r') as zip_ref:\n",
    "        with zip_ref.open(csv_name) as csv_file:\n",
    "            df_sample = pd.read_csv(csv_file, nrows=1000, low_memory=False)\n",
    "\n",
    "# Mostrar los tipos de datos\n",
    "print(df_sample.dtypes)\n"
   ],
   "id": "557a15ddb0250179"
  }
 ],
 "metadata": {
  "kernelspec": {
   "display_name": "Python 3",
   "language": "python",
   "name": "python3"
  },
  "language_info": {
   "codemirror_mode": {
    "name": "ipython",
    "version": 2
   },
   "file_extension": ".py",
   "mimetype": "text/x-python",
   "name": "python",
   "nbconvert_exporter": "python",
   "pygments_lexer": "ipython2",
   "version": "2.7.6"
  }
 },
 "nbformat": 4,
 "nbformat_minor": 5
}
