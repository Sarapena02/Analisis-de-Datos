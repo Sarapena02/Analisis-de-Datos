{
 "cells": [
  {
   "cell_type": "markdown",
   "metadata": {},
   "source": [
    "PREPROCESAMIENTO DE INFORMACIÓN DE LENDING CLUB"
   ]
  },
  {
   "cell_type": "code",
   "execution_count": 4,
   "metadata": {},
   "outputs": [
    {
     "name": "stdout",
     "output_type": "stream",
     "text": [
      "Defaulting to user installation because normal site-packages is not writeable\n",
      "Requirement already satisfied: seaborn in c:\\users\\sarap\\appdata\\local\\packages\\pythonsoftwarefoundation.python.3.13_qbz5n2kfra8p0\\localcache\\local-packages\\python313\\site-packages (0.13.2)\n",
      "Requirement already satisfied: numpy!=1.24.0,>=1.20 in c:\\users\\sarap\\appdata\\local\\packages\\pythonsoftwarefoundation.python.3.13_qbz5n2kfra8p0\\localcache\\local-packages\\python313\\site-packages (from seaborn) (2.2.5)\n",
      "Requirement already satisfied: pandas>=1.2 in c:\\users\\sarap\\appdata\\local\\packages\\pythonsoftwarefoundation.python.3.13_qbz5n2kfra8p0\\localcache\\local-packages\\python313\\site-packages (from seaborn) (2.2.3)\n",
      "Requirement already satisfied: matplotlib!=3.6.1,>=3.4 in c:\\users\\sarap\\appdata\\local\\packages\\pythonsoftwarefoundation.python.3.13_qbz5n2kfra8p0\\localcache\\local-packages\\python313\\site-packages (from seaborn) (3.10.1)\n",
      "Requirement already satisfied: contourpy>=1.0.1 in c:\\users\\sarap\\appdata\\local\\packages\\pythonsoftwarefoundation.python.3.13_qbz5n2kfra8p0\\localcache\\local-packages\\python313\\site-packages (from matplotlib!=3.6.1,>=3.4->seaborn) (1.3.2)\n",
      "Requirement already satisfied: cycler>=0.10 in c:\\users\\sarap\\appdata\\local\\packages\\pythonsoftwarefoundation.python.3.13_qbz5n2kfra8p0\\localcache\\local-packages\\python313\\site-packages (from matplotlib!=3.6.1,>=3.4->seaborn) (0.12.1)\n",
      "Requirement already satisfied: fonttools>=4.22.0 in c:\\users\\sarap\\appdata\\local\\packages\\pythonsoftwarefoundation.python.3.13_qbz5n2kfra8p0\\localcache\\local-packages\\python313\\site-packages (from matplotlib!=3.6.1,>=3.4->seaborn) (4.57.0)\n",
      "Requirement already satisfied: kiwisolver>=1.3.1 in c:\\users\\sarap\\appdata\\local\\packages\\pythonsoftwarefoundation.python.3.13_qbz5n2kfra8p0\\localcache\\local-packages\\python313\\site-packages (from matplotlib!=3.6.1,>=3.4->seaborn) (1.4.8)\n",
      "Requirement already satisfied: packaging>=20.0 in c:\\users\\sarap\\appdata\\local\\packages\\pythonsoftwarefoundation.python.3.13_qbz5n2kfra8p0\\localcache\\local-packages\\python313\\site-packages (from matplotlib!=3.6.1,>=3.4->seaborn) (25.0)\n",
      "Requirement already satisfied: pillow>=8 in c:\\users\\sarap\\appdata\\local\\packages\\pythonsoftwarefoundation.python.3.13_qbz5n2kfra8p0\\localcache\\local-packages\\python313\\site-packages (from matplotlib!=3.6.1,>=3.4->seaborn) (11.2.1)\n",
      "Requirement already satisfied: pyparsing>=2.3.1 in c:\\users\\sarap\\appdata\\local\\packages\\pythonsoftwarefoundation.python.3.13_qbz5n2kfra8p0\\localcache\\local-packages\\python313\\site-packages (from matplotlib!=3.6.1,>=3.4->seaborn) (3.2.3)\n",
      "Requirement already satisfied: python-dateutil>=2.7 in c:\\users\\sarap\\appdata\\local\\packages\\pythonsoftwarefoundation.python.3.13_qbz5n2kfra8p0\\localcache\\local-packages\\python313\\site-packages (from matplotlib!=3.6.1,>=3.4->seaborn) (2.9.0.post0)\n",
      "Requirement already satisfied: pytz>=2020.1 in c:\\users\\sarap\\appdata\\local\\packages\\pythonsoftwarefoundation.python.3.13_qbz5n2kfra8p0\\localcache\\local-packages\\python313\\site-packages (from pandas>=1.2->seaborn) (2025.2)\n",
      "Requirement already satisfied: tzdata>=2022.7 in c:\\users\\sarap\\appdata\\local\\packages\\pythonsoftwarefoundation.python.3.13_qbz5n2kfra8p0\\localcache\\local-packages\\python313\\site-packages (from pandas>=1.2->seaborn) (2025.2)\n",
      "Requirement already satisfied: six>=1.5 in c:\\users\\sarap\\appdata\\local\\packages\\pythonsoftwarefoundation.python.3.13_qbz5n2kfra8p0\\localcache\\local-packages\\python313\\site-packages (from python-dateutil>=2.7->matplotlib!=3.6.1,>=3.4->seaborn) (1.17.0)\n",
      "Note: you may need to restart the kernel to use updated packages.\n"
     ]
    }
   ],
   "source": [
    "pip install seaborn"
   ]
  },
  {
   "cell_type": "code",
   "execution_count": 19,
   "metadata": {},
   "outputs": [],
   "source": [
    "#Librerías\n",
    "import pandas as pd\n",
    "import numpy as np\n",
    "from datetime import datetime\n",
    "import matplotlib.pyplot as plt\n",
    "import seaborn as sns"
   ]
  },
  {
   "cell_type": "code",
   "execution_count": 7,
   "metadata": {},
   "outputs": [
    {
     "name": "stdout",
     "output_type": "stream",
     "text": [
      "Columnas en el DataFrame:\n",
      "['id', 'member_id', 'loan_amnt', 'funded_amnt', 'funded_amnt_inv', 'term', 'int_rate', 'installment', 'grade', 'sub_grade', 'emp_title', 'emp_length', 'home_ownership', 'annual_inc', 'verification_status', 'issue_d', 'loan_status', 'pymnt_plan', 'url', 'desc', 'purpose', 'title', 'zip_code', 'addr_state', 'dti', 'delinq_2yrs', 'earliest_cr_line', 'fico_range_low', 'fico_range_high', 'inq_last_6mths', 'mths_since_last_delinq', 'mths_since_last_record', 'open_acc', 'pub_rec', 'revol_bal', 'revol_util', 'total_acc', 'initial_list_status', 'out_prncp', 'out_prncp_inv', 'total_pymnt', 'total_pymnt_inv', 'total_rec_prncp', 'total_rec_int', 'total_rec_late_fee', 'recoveries', 'collection_recovery_fee', 'last_pymnt_d', 'last_pymnt_amnt', 'next_pymnt_d', 'last_credit_pull_d', 'last_fico_range_high', 'last_fico_range_low', 'collections_12_mths_ex_med', 'mths_since_last_major_derog', 'policy_code', 'application_type', 'annual_inc_joint', 'dti_joint', 'verification_status_joint', 'acc_now_delinq', 'tot_coll_amt', 'tot_cur_bal', 'open_acc_6m', 'open_act_il', 'open_il_12m', 'open_il_24m', 'mths_since_rcnt_il', 'total_bal_il', 'il_util', 'open_rv_12m', 'open_rv_24m', 'max_bal_bc', 'all_util', 'total_rev_hi_lim', 'inq_fi', 'total_cu_tl', 'inq_last_12m', 'acc_open_past_24mths', 'avg_cur_bal', 'bc_open_to_buy', 'bc_util', 'chargeoff_within_12_mths', 'delinq_amnt', 'mo_sin_old_il_acct', 'mo_sin_old_rev_tl_op', 'mo_sin_rcnt_rev_tl_op', 'mo_sin_rcnt_tl', 'mort_acc', 'mths_since_recent_bc', 'mths_since_recent_bc_dlq', 'mths_since_recent_inq', 'mths_since_recent_revol_delinq', 'num_accts_ever_120_pd', 'num_actv_bc_tl', 'num_actv_rev_tl', 'num_bc_sats', 'num_bc_tl', 'num_il_tl', 'num_op_rev_tl', 'num_rev_accts', 'num_rev_tl_bal_gt_0', 'num_sats', 'num_tl_120dpd_2m', 'num_tl_30dpd', 'num_tl_90g_dpd_24m', 'num_tl_op_past_12m', 'pct_tl_nvr_dlq', 'percent_bc_gt_75', 'pub_rec_bankruptcies', 'tax_liens', 'tot_hi_cred_lim', 'total_bal_ex_mort', 'total_bc_limit', 'total_il_high_credit_limit', 'revol_bal_joint', 'sec_app_fico_range_low', 'sec_app_fico_range_high', 'sec_app_earliest_cr_line', 'sec_app_inq_last_6mths', 'sec_app_mort_acc', 'sec_app_open_acc', 'sec_app_revol_util', 'sec_app_open_act_il', 'sec_app_num_rev_accts', 'sec_app_chargeoff_within_12_mths', 'sec_app_collections_12_mths_ex_med', 'sec_app_mths_since_last_major_derog', 'hardship_flag', 'hardship_type', 'hardship_reason', 'hardship_status', 'deferral_term', 'hardship_amount', 'hardship_start_date', 'hardship_end_date', 'payment_plan_start_date', 'hardship_length', 'hardship_dpd', 'hardship_loan_status', 'orig_projected_additional_accrued_interest', 'hardship_payoff_balance_amount', 'hardship_last_payment_amount', 'disbursement_method', 'debt_settlement_flag', 'debt_settlement_flag_date', 'settlement_status', 'settlement_date', 'settlement_amount', 'settlement_percentage', 'settlement_term']\n"
     ]
    }
   ],
   "source": [
    "df = pd.read_csv('accepted_2007_to_2018Q4.csv/accepted_2007_to_2018Q4.csv', low_memory=False)\n",
    "\n",
    "# Después de cargar el DataFrame, agrega esta línea para ver todas las columnas\n",
    "print(\"Columnas en el DataFrame:\")\n",
    "print(df.columns.tolist())"
   ]
  },
  {
   "cell_type": "code",
   "execution_count": 9,
   "metadata": {},
   "outputs": [],
   "source": [
    "\n",
    "#Arreglo con las variables de interes\n",
    "variables_solicitud = [\n",
    "    'annual_inc',\n",
    "    'avg_cur_bal',\n",
    "    'desc',\n",
    "    'emp_length',\n",
    "    'emp_title',\n",
    "    'home_ownership',\n",
    "    'purpose',\n",
    "    'installment',\n",
    "    'loan_amnt',\n",
    "    'title',\n",
    "    'zip_code',\n",
    "    'addr_state',\n",
    "    'earliest_cr_line',\n",
    "    'application_type',\n",
    "    'verification_status',\n",
    "    'open_acc',\n",
    "    'pub_rec',\n",
    "    'total_acc',\n",
    "    'initial_list_status',\n",
    "    'disbursement_method',\n",
    "    'term',\n",
    "    'int_rate'\n",
    "]\n",
    "\n",
    "# Verificar columnas existentes\n",
    "columnas_faltantes = [col for col in variables_solicitud if col not in df.columns]\n",
    "if columnas_faltantes:\n",
    "    print(\"Las siguientes columnas no existen en el DataFrame:\")\n",
    "    print(columnas_faltantes)\n",
    "else:\n",
    "    df_solicitud = df[variables_solicitud]\n"
   ]
  },
  {
   "cell_type": "markdown",
   "metadata": {},
   "source": [
    "Se procede a crear la transformación para cada variable.\n",
    "\n",
    "Se propone que: \n",
    "- annual_inc, avg_cur_bal, installment, loan_amnt, int_rate se discreticen por rangos \n",
    "- home_ownership, purpose, application_type, verification_status, addr_state, initial_list_status, disbursement_method, term se codifique \n",
    "- emp_title, desc, title se vuelvan binarios\n",
    "- open_acc, pub_rec, total_acc discretizar si tienen rango\n",
    "- earliest_cr_line Transformarlo en \"años desde apertura\" (restar de la fecha actual), luego discretizar.\n",
    "- zip_code para agruparlo por regiones\n",
    "\n",
    "Nota: se explicará en el documento la razón por la cual se decidio hacer la transformación para las variables"
   ]
  },
  {
   "cell_type": "code",
   "execution_count": 17,
   "metadata": {},
   "outputs": [
    {
     "name": "stderr",
     "output_type": "stream",
     "text": [
      "C:\\Users\\sarap\\AppData\\Local\\Temp\\ipykernel_44904\\1196376637.py:2: DtypeWarning: Columns (0,19,49,59,118,129,130,131,134,135,136,139,145,146,147) have mixed types. Specify dtype option on import or set low_memory=False.\n",
      "  df = pd.read_csv('accepted_2007_to_2018Q4.csv/accepted_2007_to_2018Q4.csv')\n",
      "C:\\Users\\sarap\\AppData\\Local\\Temp\\ipykernel_44904\\1196376637.py:46: UserWarning: Could not infer format, so each element will be parsed individually, falling back to `dateutil`. To ensure parsing is consistent and as-expected, please specify a format.\n",
      "  df_solicitud['earliest_cr_line'] = pd.to_datetime(df_solicitud['earliest_cr_line'], errors='coerce')\n"
     ]
    },
    {
     "name": "stdout",
     "output_type": "stream",
     "text": [
      "  emp_length  annual_inc  avg_cur_bal  installment  loan_amnt  open_acc  \\\n",
      "0  10+ years     55000.0      20701.0       123.03     3600.0       7.0   \n",
      "1  10+ years     65000.0       9733.0       820.28    24700.0      22.0   \n",
      "2  10+ years     63000.0      31617.0       432.66    20000.0       6.0   \n",
      "3  10+ years    110000.0      23192.0       829.90    35000.0      13.0   \n",
      "4    3 years    104433.0      27644.0       289.91    10400.0      12.0   \n",
      "\n",
      "   pub_rec  total_acc  int_rate  emp_title_present  ...  zip_prefix_991  \\\n",
      "0      0.0       13.0     13.99                  1  ...           False   \n",
      "1      0.0       38.0     11.99                  1  ...           False   \n",
      "2      0.0       18.0     10.78                  1  ...           False   \n",
      "3      0.0       17.0     14.85                  1  ...           False   \n",
      "4      0.0       35.0     22.45                  1  ...           False   \n",
      "\n",
      "   zip_prefix_992  zip_prefix_993  zip_prefix_994  zip_prefix_995  \\\n",
      "0           False           False           False           False   \n",
      "1           False           False           False           False   \n",
      "2           False           False           False           False   \n",
      "3           False           False           False           False   \n",
      "4           False           False           False           False   \n",
      "\n",
      "   zip_prefix_996  zip_prefix_997  zip_prefix_998  zip_prefix_999  \\\n",
      "0           False           False           False           False   \n",
      "1           False           False           False           False   \n",
      "2           False           False           False           False   \n",
      "3           False           False           False           False   \n",
      "4           False           False           False           False   \n",
      "\n",
      "   zip_prefix_nan  \n",
      "0           False  \n",
      "1           False  \n",
      "2           False  \n",
      "3           False  \n",
      "4           False  \n",
      "\n",
      "[5 rows x 1070 columns]\n"
     ]
    }
   ],
   "source": [
    "\n",
    "# Paso 1: Cargar el archivo\n",
    "df = pd.read_csv('accepted_2007_to_2018Q4.csv/accepted_2007_to_2018Q4.csv')\n",
    "\n",
    "# Paso 2: Limpiar nombres de columnas\n",
    "df.columns = df.columns.str.strip()\n",
    "df = df.loc[:, ~df.columns.duplicated()]\n",
    "\n",
    "# Paso 3: Filtrar columnas de interés\n",
    "columnas_interes = [\n",
    "    'annual_inc', 'avg_cur_bal', 'emp_length', 'emp_title', 'home_ownership',\n",
    "    'purpose', 'installment', 'loan_amnt', 'title', 'zip_code',\n",
    "    'application_type', 'verification_status', 'addr_state', 'open_acc',\n",
    "    'pub_rec', 'total_acc', 'initial_list_status', 'disbursement_method',\n",
    "    'earliest_cr_line', 'term', 'int_rate'\n",
    "]\n",
    "\n",
    "# Verificar qué columnas existen realmente\n",
    "columnas_existentes = [col for col in columnas_interes if col in df.columns]\n",
    "df_solicitud = df.loc[:, columnas_existentes]\n",
    "\n",
    "# Paso 4: Variables de texto libre -> binarizar (si existen)\n",
    "for col in ['emp_title', 'title']:\n",
    "    if col in df_solicitud.columns:\n",
    "        df_solicitud.loc[:, f'{col}_present'] = df_solicitud[col].notnull().astype(int)\n",
    "        df_solicitud.drop(columns=col, inplace=True)\n",
    "\n",
    "# Paso 5: Discretización de numéricas\n",
    "def discretizar_variable(df, col, bins, labels):\n",
    "    if col in df.columns:\n",
    "        df.loc[:, f'{col}_bin'] = pd.cut(df[col], bins=bins, labels=labels, include_lowest=True)\n",
    "\n",
    "discretizar_variable(df_solicitud, 'annual_inc', [0, 30000, 70000, 150000, np.inf], ['bajo', 'medio', 'alto', 'muy alto'])\n",
    "discretizar_variable(df_solicitud, 'avg_cur_bal', [-1, 0, 5000, 20000, np.inf], ['sin saldo', 'bajo', 'medio', 'alto'])\n",
    "discretizar_variable(df_solicitud, 'installment', [0, 250, 500, 1000, np.inf], ['bajo', 'medio', 'alto', 'muy alto'])\n",
    "discretizar_variable(df_solicitud, 'loan_amnt', [0, 5000, 10000, 20000, np.inf], ['muy bajo', 'bajo', 'medio', 'alto'])\n",
    "discretizar_variable(df_solicitud, 'int_rate', [0, 10, 15, 20, np.inf], ['baja', 'media', 'alta', 'muy alta'])\n",
    "\n",
    "for col in ['open_acc', 'pub_rec', 'total_acc']:\n",
    "    if col in df_solicitud.columns:\n",
    "        df_solicitud.loc[:, f'{col}_bin'] = pd.cut(df_solicitud[col], [-1, 5, 10, 20, np.inf],\n",
    "                                                   labels=['muy bajo', 'bajo', 'medio', 'alto'])\n",
    "\n",
    "# Paso 6: Convertir earliest_cr_line a antigüedad (si existe)\n",
    "# Convertir la columna a datetime (si existe)\n",
    "if 'earliest_cr_line' in df_solicitud.columns:\n",
    "    df_solicitud['earliest_cr_line'] = pd.to_datetime(df_solicitud['earliest_cr_line'], errors='coerce')\n",
    "    \n",
    "    # Verifica si la conversión fue exitosa (al menos un valor no nulo)\n",
    "    if pd.api.types.is_datetime64_any_dtype(df_solicitud['earliest_cr_line']):\n",
    "        df_solicitud['antiguedad_credito'] = datetime.now().year - df_solicitud['earliest_cr_line'].dt.year\n",
    "        df_solicitud['antiguedad_credito_bin'] = pd.cut(df_solicitud['antiguedad_credito'],\n",
    "                                                        [-1, 5, 10, 20, 40, np.inf],\n",
    "                                                        labels=['<5', '5-10', '10-20', '20-40', '40+'])\n",
    "        df_solicitud.drop(columns='earliest_cr_line', inplace=True)\n",
    "    else:\n",
    "        print(\"❌ Error: 'earliest_cr_line' no se pudo convertir a datetime.\")\n",
    "\n",
    "\n",
    "# Paso 7: Agrupar código postal (si existe)\n",
    "if 'zip_code' in df_solicitud.columns:\n",
    "    df_solicitud.loc[:, 'zip_prefix'] = df_solicitud['zip_code'].astype(str).str[:3]\n",
    "    df_solicitud.drop(columns='zip_code', inplace=True)\n",
    "\n",
    "# Paso 8: One-hot encoding\n",
    "categorical_cols = [\n",
    "    'home_ownership', 'purpose', 'application_type', 'verification_status',\n",
    "    'addr_state', 'initial_list_status', 'disbursement_method', 'term',\n",
    "    'annual_inc_bin', 'avg_cur_bal_bin', 'installment_bin', 'loan_amnt_bin',\n",
    "    'int_rate_bin', 'open_acc_bin', 'pub_rec_bin', 'total_acc_bin',\n",
    "    'antiguedad_credito_bin', 'zip_prefix'\n",
    "]\n",
    "# Elimina columnas que aparecen en menos del 1% de los datos\n",
    "min_freq = len(df_solicitud) * 0.01\n",
    "# Solo columnas numéricas para filtrar por frecuencia\n",
    "numeric_cols = df_solicitud.select_dtypes(include=[np.number]).columns\n",
    "\n",
    "# Calculamos la suma por columna numérica\n",
    "column_sums = df_solicitud[numeric_cols].sum()\n",
    "\n",
    "# Columnas que aparecen en al menos 1% de los casos (o que son todas cero)\n",
    "cols_frecuentes = column_sums[(column_sums >= min_freq) | (column_sums == 0)].index\n",
    "\n",
    "# Mantenemos esas columnas + todas las no numéricas\n",
    "otras_cols = [col for col in df_solicitud.columns if col not in numeric_cols]\n",
    "df_solicitud = df_solicitud[otras_cols + list(cols_frecuentes)]\n",
    "\n",
    "\n",
    "\n",
    "# Solo usar columnas que realmente están\n",
    "categorical_cols = [col for col in categorical_cols if col in df_solicitud.columns]\n",
    "\n",
    "df_solicitud = pd.get_dummies(df_solicitud, columns=categorical_cols, drop_first=True)\n",
    "\n",
    "# Paso 9: Mostrar el resultado\n",
    "print(df_solicitud.head())\n"
   ]
  }
 ],
 "metadata": {
  "kernelspec": {
   "display_name": "Python 3",
   "language": "python",
   "name": "python3"
  },
  "language_info": {
   "codemirror_mode": {
    "name": "ipython",
    "version": 3
   },
   "file_extension": ".py",
   "mimetype": "text/x-python",
   "name": "python",
   "nbconvert_exporter": "python",
   "pygments_lexer": "ipython3",
   "version": "3.13.3"
  }
 },
 "nbformat": 4,
 "nbformat_minor": 2
}
