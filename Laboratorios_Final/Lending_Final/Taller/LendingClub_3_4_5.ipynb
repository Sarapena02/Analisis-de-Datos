{
  "cells": [
    {
      "cell_type": "markdown",
      "source": [
        "Realizado por: Frank Hernandez y Sara Peña"
      ],
      "metadata": {
        "id": "-sCnwnb63_qa"
      },
      "id": "-sCnwnb63_qa"
    },
    {
      "cell_type": "markdown",
      "id": "d92a9b54",
      "metadata": {
        "id": "d92a9b54"
      },
      "source": [
        "Librerías"
      ]
    },
    {
      "cell_type": "code",
      "id": "14695507",
      "metadata": {
        "jupyter": {
          "is_executing": true
        },
        "colab": {
          "base_uri": "https://localhost:8080/"
        },
        "id": "14695507",
        "outputId": "c4523a66-dfd1-40c3-ba1c-5adb50e071dc"
      },
      "source": [
        "pip install pandas numpy scikit-learn tensorflow"
      ],
      "outputs": [
        {
          "output_type": "stream",
          "name": "stdout",
          "text": [
            "Requirement already satisfied: pandas in /usr/local/lib/python3.11/dist-packages (2.2.2)\n",
            "Requirement already satisfied: numpy in /usr/local/lib/python3.11/dist-packages (2.0.2)\n",
            "Requirement already satisfied: scikit-learn in /usr/local/lib/python3.11/dist-packages (1.6.1)\n",
            "Requirement already satisfied: tensorflow in /usr/local/lib/python3.11/dist-packages (2.18.0)\n",
            "Requirement already satisfied: python-dateutil>=2.8.2 in /usr/local/lib/python3.11/dist-packages (from pandas) (2.8.2)\n",
            "Requirement already satisfied: pytz>=2020.1 in /usr/local/lib/python3.11/dist-packages (from pandas) (2025.2)\n",
            "Requirement already satisfied: tzdata>=2022.7 in /usr/local/lib/python3.11/dist-packages (from pandas) (2025.2)\n",
            "Requirement already satisfied: scipy>=1.6.0 in /usr/local/lib/python3.11/dist-packages (from scikit-learn) (1.14.1)\n",
            "Requirement already satisfied: joblib>=1.2.0 in /usr/local/lib/python3.11/dist-packages (from scikit-learn) (1.4.2)\n",
            "Requirement already satisfied: threadpoolctl>=3.1.0 in /usr/local/lib/python3.11/dist-packages (from scikit-learn) (3.6.0)\n",
            "Requirement already satisfied: absl-py>=1.0.0 in /usr/local/lib/python3.11/dist-packages (from tensorflow) (1.4.0)\n",
            "Requirement already satisfied: astunparse>=1.6.0 in /usr/local/lib/python3.11/dist-packages (from tensorflow) (1.6.3)\n",
            "Requirement already satisfied: flatbuffers>=24.3.25 in /usr/local/lib/python3.11/dist-packages (from tensorflow) (25.2.10)\n",
            "Requirement already satisfied: gast!=0.5.0,!=0.5.1,!=0.5.2,>=0.2.1 in /usr/local/lib/python3.11/dist-packages (from tensorflow) (0.6.0)\n",
            "Requirement already satisfied: google-pasta>=0.1.1 in /usr/local/lib/python3.11/dist-packages (from tensorflow) (0.2.0)\n",
            "Requirement already satisfied: libclang>=13.0.0 in /usr/local/lib/python3.11/dist-packages (from tensorflow) (18.1.1)\n",
            "Requirement already satisfied: opt-einsum>=2.3.2 in /usr/local/lib/python3.11/dist-packages (from tensorflow) (3.4.0)\n",
            "Requirement already satisfied: packaging in /usr/local/lib/python3.11/dist-packages (from tensorflow) (24.2)\n",
            "Requirement already satisfied: protobuf!=4.21.0,!=4.21.1,!=4.21.2,!=4.21.3,!=4.21.4,!=4.21.5,<6.0.0dev,>=3.20.3 in /usr/local/lib/python3.11/dist-packages (from tensorflow) (5.29.4)\n",
            "Requirement already satisfied: requests<3,>=2.21.0 in /usr/local/lib/python3.11/dist-packages (from tensorflow) (2.32.3)\n",
            "Requirement already satisfied: setuptools in /usr/local/lib/python3.11/dist-packages (from tensorflow) (75.2.0)\n",
            "Requirement already satisfied: six>=1.12.0 in /usr/local/lib/python3.11/dist-packages (from tensorflow) (1.17.0)\n",
            "Requirement already satisfied: termcolor>=1.1.0 in /usr/local/lib/python3.11/dist-packages (from tensorflow) (3.0.1)\n",
            "Requirement already satisfied: typing-extensions>=3.6.6 in /usr/local/lib/python3.11/dist-packages (from tensorflow) (4.13.1)\n",
            "Requirement already satisfied: wrapt>=1.11.0 in /usr/local/lib/python3.11/dist-packages (from tensorflow) (1.17.2)\n",
            "Requirement already satisfied: grpcio<2.0,>=1.24.3 in /usr/local/lib/python3.11/dist-packages (from tensorflow) (1.71.0)\n",
            "Requirement already satisfied: tensorboard<2.19,>=2.18 in /usr/local/lib/python3.11/dist-packages (from tensorflow) (2.18.0)\n",
            "Requirement already satisfied: keras>=3.5.0 in /usr/local/lib/python3.11/dist-packages (from tensorflow) (3.8.0)\n",
            "Requirement already satisfied: h5py>=3.11.0 in /usr/local/lib/python3.11/dist-packages (from tensorflow) (3.13.0)\n",
            "Requirement already satisfied: ml-dtypes<0.5.0,>=0.4.0 in /usr/local/lib/python3.11/dist-packages (from tensorflow) (0.4.1)\n",
            "Requirement already satisfied: tensorflow-io-gcs-filesystem>=0.23.1 in /usr/local/lib/python3.11/dist-packages (from tensorflow) (0.37.1)\n",
            "Requirement already satisfied: wheel<1.0,>=0.23.0 in /usr/local/lib/python3.11/dist-packages (from astunparse>=1.6.0->tensorflow) (0.45.1)\n",
            "Requirement already satisfied: rich in /usr/local/lib/python3.11/dist-packages (from keras>=3.5.0->tensorflow) (13.9.4)\n",
            "Requirement already satisfied: namex in /usr/local/lib/python3.11/dist-packages (from keras>=3.5.0->tensorflow) (0.0.8)\n",
            "Requirement already satisfied: optree in /usr/local/lib/python3.11/dist-packages (from keras>=3.5.0->tensorflow) (0.14.1)\n",
            "Requirement already satisfied: charset-normalizer<4,>=2 in /usr/local/lib/python3.11/dist-packages (from requests<3,>=2.21.0->tensorflow) (3.4.1)\n",
            "Requirement already satisfied: idna<4,>=2.5 in /usr/local/lib/python3.11/dist-packages (from requests<3,>=2.21.0->tensorflow) (3.10)\n",
            "Requirement already satisfied: urllib3<3,>=1.21.1 in /usr/local/lib/python3.11/dist-packages (from requests<3,>=2.21.0->tensorflow) (2.3.0)\n",
            "Requirement already satisfied: certifi>=2017.4.17 in /usr/local/lib/python3.11/dist-packages (from requests<3,>=2.21.0->tensorflow) (2025.1.31)\n",
            "Requirement already satisfied: markdown>=2.6.8 in /usr/local/lib/python3.11/dist-packages (from tensorboard<2.19,>=2.18->tensorflow) (3.7)\n",
            "Requirement already satisfied: tensorboard-data-server<0.8.0,>=0.7.0 in /usr/local/lib/python3.11/dist-packages (from tensorboard<2.19,>=2.18->tensorflow) (0.7.2)\n",
            "Requirement already satisfied: werkzeug>=1.0.1 in /usr/local/lib/python3.11/dist-packages (from tensorboard<2.19,>=2.18->tensorflow) (3.1.3)\n",
            "Requirement already satisfied: MarkupSafe>=2.1.1 in /usr/local/lib/python3.11/dist-packages (from werkzeug>=1.0.1->tensorboard<2.19,>=2.18->tensorflow) (3.0.2)\n",
            "Requirement already satisfied: markdown-it-py>=2.2.0 in /usr/local/lib/python3.11/dist-packages (from rich->keras>=3.5.0->tensorflow) (3.0.0)\n",
            "Requirement already satisfied: pygments<3.0.0,>=2.13.0 in /usr/local/lib/python3.11/dist-packages (from rich->keras>=3.5.0->tensorflow) (2.18.0)\n",
            "Requirement already satisfied: mdurl~=0.1 in /usr/local/lib/python3.11/dist-packages (from markdown-it-py>=2.2.0->rich->keras>=3.5.0->tensorflow) (0.1.2)\n"
          ]
        }
      ],
      "execution_count": 1
    },
    {
      "cell_type": "code",
      "id": "3e9f85d0",
      "metadata": {
        "jupyter": {
          "is_executing": true
        },
        "id": "3e9f85d0"
      },
      "source": [
        "import pandas as pd\n",
        "import numpy as np\n",
        "import seaborn as sns\n",
        "from sklearn.model_selection import train_test_split\n",
        "from sklearn.preprocessing import StandardScaler, LabelEncoder\n",
        "from sklearn.metrics import classification_report, confusion_matrix\n",
        "from tensorflow.keras.models import Sequential\n",
        "from tensorflow.keras.layers import Dense, Dropout\n",
        "import matplotlib.pyplot as plt"
      ],
      "outputs": [],
      "execution_count": 2
    },
    {
      "cell_type": "markdown",
      "id": "c6970a12",
      "metadata": {
        "id": "c6970a12"
      },
      "source": [
        "Carga y limpieza de los datos"
      ]
    },
    {
      "cell_type": "code",
      "id": "ab36966c",
      "metadata": {
        "jupyter": {
          "is_executing": true
        },
        "colab": {
          "base_uri": "https://localhost:8080/"
        },
        "id": "ab36966c",
        "outputId": "e68f9c6e-ef99-45b9-a261-e2a19d898699"
      },
      "source": [
        "#Cargamos el dataset en chunks para evitar errores de memoria\n",
        "chunk_size = 100000  #Cantidad de filas por chunk\n",
        "chunks = pd.read_csv('accepted_2007_to_2018Q4.csv', chunksize=chunk_size)\n",
        "#Variables útiles\n",
        "variables_utiles = [\n",
        "    'loan_amnt', 'term', 'int_rate', 'installment', 'grade', 'sub_grade',\n",
        "    'emp_length', 'home_ownership', 'annual_inc', 'verification_status',\n",
        "    'purpose', 'dti', 'delinq_2yrs', 'fico_range_low', 'fico_range_high',\n",
        "    'inq_last_6mths', 'mths_since_last_delinq', 'mths_since_last_record', 'open_acc', 'total_acc', 'revol_bal', 'revol_util',\n",
        "    'application_type', 'acc_now_delinq', 'pub_rec_bankruptcies', 'mort_acc',\n",
        "    'num_tl_90g_dpd_24m', 'loan_status', 'total_pymnt_inv', 'chargeoff_within_12_mths'\n",
        "]\n",
        "#Combinamos los chunks en un solo DataFrame con solo las variables útiles\n",
        "df = pd.concat(chunk[variables_utiles] for chunk in chunks)"
      ],
      "outputs": [
        {
          "output_type": "stream",
          "name": "stderr",
          "text": [
            "<ipython-input-3-0aa2658dc392>:14: DtypeWarning: Columns (19) have mixed types. Specify dtype option on import or set low_memory=False.\n",
            "  df = pd.concat(chunk[variables_utiles] for chunk in chunks)\n",
            "<ipython-input-3-0aa2658dc392>:14: DtypeWarning: Columns (19,59) have mixed types. Specify dtype option on import or set low_memory=False.\n",
            "  df = pd.concat(chunk[variables_utiles] for chunk in chunks)\n"
          ]
        }
      ],
      "execution_count": 3
    },
    {
      "cell_type": "markdown",
      "id": "bd46bc80",
      "metadata": {
        "id": "bd46bc80"
      },
      "source": [
        "Conociendo la variable objetivo y sus opciones"
      ]
    },
    {
      "cell_type": "code",
      "execution_count": 4,
      "id": "d5be5e76",
      "metadata": {
        "colab": {
          "base_uri": "https://localhost:8080/"
        },
        "id": "d5be5e76",
        "outputId": "a6be643f-f65c-41c2-ef74-3fa58d94f76f"
      },
      "outputs": [
        {
          "output_type": "stream",
          "name": "stdout",
          "text": [
            "loan_status\n",
            "Fully Paid            102811\n",
            "Charged Off            25509\n",
            "Current                16498\n",
            "Late (31-120 days)       594\n",
            "In Grace Period          265\n",
            "Late (16-30 days)        106\n",
            "Default                    1\n",
            "Name: count, dtype: int64\n"
          ]
        }
      ],
      "source": [
        "print(df['loan_status'].value_counts())"
      ]
    },
    {
      "cell_type": "code",
      "execution_count": 5,
      "id": "9b04835b",
      "metadata": {
        "colab": {
          "base_uri": "https://localhost:8080/"
        },
        "id": "9b04835b",
        "outputId": "7f56b9e0-0b6c-41ba-e180-49e6977c9166"
      },
      "outputs": [
        {
          "output_type": "stream",
          "name": "stdout",
          "text": [
            "['Fully Paid' 'Current' 'Charged Off' 'In Grace Period'\n",
            " 'Late (31-120 days)' 'Late (16-30 days)' 'Default']\n"
          ]
        }
      ],
      "source": [
        "print(df['loan_status'].unique())"
      ]
    },
    {
      "cell_type": "markdown",
      "id": "2e80698f",
      "metadata": {
        "id": "2e80698f"
      },
      "source": [
        "Preprocesamiento de la variable objetivo"
      ]
    },
    {
      "cell_type": "code",
      "execution_count": 6,
      "id": "7bef7436",
      "metadata": {
        "id": "7bef7436"
      },
      "outputs": [],
      "source": [
        "# 1. Guardar el estado original de los préstamos\n",
        "df['loan_status_original'] = df['loan_status']\n",
        "\n",
        "# 2. Convertir a variable binaria: 1 = impago, 0 = pagado\n",
        "df['loan_status'] = df['loan_status_original'].apply(\n",
        "    lambda x: 1 if x in ['Charged Off', 'Default', 'Late (31-120 days)', 'Late (16-30 days)'] else 0\n",
        ")\n",
        "\n"
      ]
    },
    {
      "cell_type": "markdown",
      "id": "21c7f530",
      "metadata": {
        "id": "21c7f530"
      },
      "source": [
        "Preprocesamiento de las variables"
      ]
    },
    {
      "cell_type": "code",
      "execution_count": 7,
      "id": "255e1e78",
      "metadata": {
        "id": "255e1e78"
      },
      "outputs": [],
      "source": [
        "#Variables numéricas y categóricas\n",
        "vars_numericas = df.select_dtypes(include=['int64', 'float64']).drop('loan_status', axis=1).columns.tolist()\n",
        "vars_categoricas = df.select_dtypes(include='object').columns.tolist()\n",
        "\n",
        "#Imputación simple\n",
        "df[vars_numericas] = df[vars_numericas].fillna(df[vars_numericas].median())\n",
        "df[vars_categoricas] = df[vars_categoricas].fillna('Desconocido')\n",
        "\n",
        "#Codificación\n",
        "df = pd.get_dummies(df, columns=vars_categoricas, drop_first=True)\n",
        "\n",
        "#Escalar en chunks\n",
        "scaler = StandardScaler()\n",
        "X_chunks = []\n",
        "y_chunks = []\n",
        "\n",
        "chunk_size = 100000  #Define un tamaño de chunk adecuado\n",
        "for start in range(0, len(df), chunk_size):\n",
        "\tend = start + chunk_size\n",
        "\tchunk = df.iloc[start:end]\n",
        "\tX_chunk = scaler.fit_transform(chunk.drop('loan_status', axis=1))\n",
        "\ty_chunk = chunk['loan_status'].values\n",
        "\tX_chunks.append(X_chunk)\n",
        "\ty_chunks.append(y_chunk)\n",
        "\n",
        "#Concatenar los resultados\n",
        "X = np.vstack(X_chunks)\n",
        "y = np.concatenate(y_chunks)"
      ]
    },
    {
      "cell_type": "markdown",
      "id": "80c8ac0a",
      "metadata": {
        "id": "80c8ac0a"
      },
      "source": [
        "Dividir entre datos de entrenamiento y los de prueba"
      ]
    },
    {
      "cell_type": "code",
      "execution_count": 8,
      "id": "da18b795",
      "metadata": {
        "id": "da18b795"
      },
      "outputs": [],
      "source": [
        "X_train, X_test, y_train, y_test = train_test_split(X, y, test_size=0.2, random_state=42, stratify=y)"
      ]
    },
    {
      "cell_type": "markdown",
      "id": "e464b155",
      "metadata": {
        "id": "e464b155"
      },
      "source": [
        "Creación de la red neuronal"
      ]
    },
    {
      "cell_type": "code",
      "execution_count": 9,
      "id": "43626693",
      "metadata": {
        "colab": {
          "base_uri": "https://localhost:8080/",
          "height": 357
        },
        "id": "43626693",
        "outputId": "75432196-2afd-4124-859b-cdb4b10ca04f"
      },
      "outputs": [
        {
          "output_type": "stream",
          "name": "stderr",
          "text": [
            "/usr/local/lib/python3.11/dist-packages/keras/src/layers/core/dense.py:87: UserWarning: Do not pass an `input_shape`/`input_dim` argument to a layer. When using Sequential models, prefer using an `Input(shape)` object as the first layer in the model instead.\n",
            "  super().__init__(activity_regularizer=activity_regularizer, **kwargs)\n"
          ]
        },
        {
          "output_type": "display_data",
          "data": {
            "text/plain": [
              "\u001b[1mModel: \"sequential\"\u001b[0m\n"
            ],
            "text/html": [
              "<pre style=\"white-space:pre;overflow-x:auto;line-height:normal;font-family:Menlo,'DejaVu Sans Mono',consolas,'Courier New',monospace\"><span style=\"font-weight: bold\">Model: \"sequential\"</span>\n",
              "</pre>\n"
            ]
          },
          "metadata": {}
        },
        {
          "output_type": "display_data",
          "data": {
            "text/plain": [
              "┏━━━━━━━━━━━━━━━━━━━━━━━━━━━━━━━━━┳━━━━━━━━━━━━━━━━━━━━━━━━┳━━━━━━━━━━━━━━━┓\n",
              "┃\u001b[1m \u001b[0m\u001b[1mLayer (type)                   \u001b[0m\u001b[1m \u001b[0m┃\u001b[1m \u001b[0m\u001b[1mOutput Shape          \u001b[0m\u001b[1m \u001b[0m┃\u001b[1m \u001b[0m\u001b[1m      Param #\u001b[0m\u001b[1m \u001b[0m┃\n",
              "┡━━━━━━━━━━━━━━━━━━━━━━━━━━━━━━━━━╇━━━━━━━━━━━━━━━━━━━━━━━━╇━━━━━━━━━━━━━━━┩\n",
              "│ dense (\u001b[38;5;33mDense\u001b[0m)                   │ (\u001b[38;5;45mNone\u001b[0m, \u001b[38;5;34m64\u001b[0m)             │         \u001b[38;5;34m6,208\u001b[0m │\n",
              "├─────────────────────────────────┼────────────────────────┼───────────────┤\n",
              "│ dropout (\u001b[38;5;33mDropout\u001b[0m)               │ (\u001b[38;5;45mNone\u001b[0m, \u001b[38;5;34m64\u001b[0m)             │             \u001b[38;5;34m0\u001b[0m │\n",
              "├─────────────────────────────────┼────────────────────────┼───────────────┤\n",
              "│ dense_1 (\u001b[38;5;33mDense\u001b[0m)                 │ (\u001b[38;5;45mNone\u001b[0m, \u001b[38;5;34m32\u001b[0m)             │         \u001b[38;5;34m2,080\u001b[0m │\n",
              "├─────────────────────────────────┼────────────────────────┼───────────────┤\n",
              "│ dropout_1 (\u001b[38;5;33mDropout\u001b[0m)             │ (\u001b[38;5;45mNone\u001b[0m, \u001b[38;5;34m32\u001b[0m)             │             \u001b[38;5;34m0\u001b[0m │\n",
              "├─────────────────────────────────┼────────────────────────┼───────────────┤\n",
              "│ dense_2 (\u001b[38;5;33mDense\u001b[0m)                 │ (\u001b[38;5;45mNone\u001b[0m, \u001b[38;5;34m1\u001b[0m)              │            \u001b[38;5;34m33\u001b[0m │\n",
              "└─────────────────────────────────┴────────────────────────┴───────────────┘\n"
            ],
            "text/html": [
              "<pre style=\"white-space:pre;overflow-x:auto;line-height:normal;font-family:Menlo,'DejaVu Sans Mono',consolas,'Courier New',monospace\">┏━━━━━━━━━━━━━━━━━━━━━━━━━━━━━━━━━┳━━━━━━━━━━━━━━━━━━━━━━━━┳━━━━━━━━━━━━━━━┓\n",
              "┃<span style=\"font-weight: bold\"> Layer (type)                    </span>┃<span style=\"font-weight: bold\"> Output Shape           </span>┃<span style=\"font-weight: bold\">       Param # </span>┃\n",
              "┡━━━━━━━━━━━━━━━━━━━━━━━━━━━━━━━━━╇━━━━━━━━━━━━━━━━━━━━━━━━╇━━━━━━━━━━━━━━━┩\n",
              "│ dense (<span style=\"color: #0087ff; text-decoration-color: #0087ff\">Dense</span>)                   │ (<span style=\"color: #00d7ff; text-decoration-color: #00d7ff\">None</span>, <span style=\"color: #00af00; text-decoration-color: #00af00\">64</span>)             │         <span style=\"color: #00af00; text-decoration-color: #00af00\">6,208</span> │\n",
              "├─────────────────────────────────┼────────────────────────┼───────────────┤\n",
              "│ dropout (<span style=\"color: #0087ff; text-decoration-color: #0087ff\">Dropout</span>)               │ (<span style=\"color: #00d7ff; text-decoration-color: #00d7ff\">None</span>, <span style=\"color: #00af00; text-decoration-color: #00af00\">64</span>)             │             <span style=\"color: #00af00; text-decoration-color: #00af00\">0</span> │\n",
              "├─────────────────────────────────┼────────────────────────┼───────────────┤\n",
              "│ dense_1 (<span style=\"color: #0087ff; text-decoration-color: #0087ff\">Dense</span>)                 │ (<span style=\"color: #00d7ff; text-decoration-color: #00d7ff\">None</span>, <span style=\"color: #00af00; text-decoration-color: #00af00\">32</span>)             │         <span style=\"color: #00af00; text-decoration-color: #00af00\">2,080</span> │\n",
              "├─────────────────────────────────┼────────────────────────┼───────────────┤\n",
              "│ dropout_1 (<span style=\"color: #0087ff; text-decoration-color: #0087ff\">Dropout</span>)             │ (<span style=\"color: #00d7ff; text-decoration-color: #00d7ff\">None</span>, <span style=\"color: #00af00; text-decoration-color: #00af00\">32</span>)             │             <span style=\"color: #00af00; text-decoration-color: #00af00\">0</span> │\n",
              "├─────────────────────────────────┼────────────────────────┼───────────────┤\n",
              "│ dense_2 (<span style=\"color: #0087ff; text-decoration-color: #0087ff\">Dense</span>)                 │ (<span style=\"color: #00d7ff; text-decoration-color: #00d7ff\">None</span>, <span style=\"color: #00af00; text-decoration-color: #00af00\">1</span>)              │            <span style=\"color: #00af00; text-decoration-color: #00af00\">33</span> │\n",
              "└─────────────────────────────────┴────────────────────────┴───────────────┘\n",
              "</pre>\n"
            ]
          },
          "metadata": {}
        },
        {
          "output_type": "display_data",
          "data": {
            "text/plain": [
              "\u001b[1m Total params: \u001b[0m\u001b[38;5;34m8,321\u001b[0m (32.50 KB)\n"
            ],
            "text/html": [
              "<pre style=\"white-space:pre;overflow-x:auto;line-height:normal;font-family:Menlo,'DejaVu Sans Mono',consolas,'Courier New',monospace\"><span style=\"font-weight: bold\"> Total params: </span><span style=\"color: #00af00; text-decoration-color: #00af00\">8,321</span> (32.50 KB)\n",
              "</pre>\n"
            ]
          },
          "metadata": {}
        },
        {
          "output_type": "display_data",
          "data": {
            "text/plain": [
              "\u001b[1m Trainable params: \u001b[0m\u001b[38;5;34m8,321\u001b[0m (32.50 KB)\n"
            ],
            "text/html": [
              "<pre style=\"white-space:pre;overflow-x:auto;line-height:normal;font-family:Menlo,'DejaVu Sans Mono',consolas,'Courier New',monospace\"><span style=\"font-weight: bold\"> Trainable params: </span><span style=\"color: #00af00; text-decoration-color: #00af00\">8,321</span> (32.50 KB)\n",
              "</pre>\n"
            ]
          },
          "metadata": {}
        },
        {
          "output_type": "display_data",
          "data": {
            "text/plain": [
              "\u001b[1m Non-trainable params: \u001b[0m\u001b[38;5;34m0\u001b[0m (0.00 B)\n"
            ],
            "text/html": [
              "<pre style=\"white-space:pre;overflow-x:auto;line-height:normal;font-family:Menlo,'DejaVu Sans Mono',consolas,'Courier New',monospace\"><span style=\"font-weight: bold\"> Non-trainable params: </span><span style=\"color: #00af00; text-decoration-color: #00af00\">0</span> (0.00 B)\n",
              "</pre>\n"
            ]
          },
          "metadata": {}
        }
      ],
      "source": [
        "model = Sequential()\n",
        "model.add(Dense(64, activation='relu', input_dim=X.shape[1]))\n",
        "model.add(Dropout(0.5))\n",
        "model.add(Dense(32, activation='relu'))\n",
        "model.add(Dropout(0.5))\n",
        "model.add(Dense(1, activation='sigmoid'))\n",
        "\n",
        "model.compile(optimizer='adam', loss='binary_crossentropy', metrics=['accuracy'])\n",
        "model.summary()"
      ]
    },
    {
      "cell_type": "markdown",
      "id": "a2fec637",
      "metadata": {
        "id": "a2fec637"
      },
      "source": [
        "Entrenamiento de la red"
      ]
    },
    {
      "cell_type": "code",
      "execution_count": 22,
      "id": "4aae1d45",
      "metadata": {
        "colab": {
          "base_uri": "https://localhost:8080/"
        },
        "id": "4aae1d45",
        "outputId": "2d1d95e2-9b9e-4489-a74c-ab356f8e2058"
      },
      "outputs": [
        {
          "output_type": "stream",
          "name": "stdout",
          "text": [
            "Epoch 1/20\n",
            "\u001b[1m1458/1458\u001b[0m \u001b[32m━━━━━━━━━━━━━━━━━━━━\u001b[0m\u001b[37m\u001b[0m \u001b[1m4s\u001b[0m 3ms/step - accuracy: 0.9999 - loss: 2.7225e-04 - val_accuracy: 1.0000 - val_loss: 6.7402e-09\n",
            "Epoch 2/20\n",
            "\u001b[1m1458/1458\u001b[0m \u001b[32m━━━━━━━━━━━━━━━━━━━━\u001b[0m\u001b[37m\u001b[0m \u001b[1m6s\u001b[0m 4ms/step - accuracy: 0.9999 - loss: 5.8130e-04 - val_accuracy: 1.0000 - val_loss: 5.1910e-11\n",
            "Epoch 3/20\n",
            "\u001b[1m1458/1458\u001b[0m \u001b[32m━━━━━━━━━━━━━━━━━━━━\u001b[0m\u001b[37m\u001b[0m \u001b[1m9s\u001b[0m 3ms/step - accuracy: 1.0000 - loss: 1.4628e-04 - val_accuracy: 1.0000 - val_loss: 5.6694e-06\n",
            "Epoch 4/20\n",
            "\u001b[1m1458/1458\u001b[0m \u001b[32m━━━━━━━━━━━━━━━━━━━━\u001b[0m\u001b[37m\u001b[0m \u001b[1m6s\u001b[0m 4ms/step - accuracy: 1.0000 - loss: 2.6540e-04 - val_accuracy: 1.0000 - val_loss: 1.9453e-10\n",
            "Epoch 5/20\n",
            "\u001b[1m1458/1458\u001b[0m \u001b[32m━━━━━━━━━━━━━━━━━━━━\u001b[0m\u001b[37m\u001b[0m \u001b[1m9s\u001b[0m 3ms/step - accuracy: 0.9999 - loss: 2.0471e-04 - val_accuracy: 1.0000 - val_loss: 4.9954e-10\n",
            "Epoch 6/20\n",
            "\u001b[1m1458/1458\u001b[0m \u001b[32m━━━━━━━━━━━━━━━━━━━━\u001b[0m\u001b[37m\u001b[0m \u001b[1m6s\u001b[0m 4ms/step - accuracy: 0.9999 - loss: 0.0015 - val_accuracy: 1.0000 - val_loss: 4.7467e-09\n",
            "Epoch 7/20\n",
            "\u001b[1m1458/1458\u001b[0m \u001b[32m━━━━━━━━━━━━━━━━━━━━\u001b[0m\u001b[37m\u001b[0m \u001b[1m8s\u001b[0m 3ms/step - accuracy: 1.0000 - loss: 1.5043e-04 - val_accuracy: 1.0000 - val_loss: 6.1964e-10\n",
            "Epoch 8/20\n",
            "\u001b[1m1458/1458\u001b[0m \u001b[32m━━━━━━━━━━━━━━━━━━━━\u001b[0m\u001b[37m\u001b[0m \u001b[1m7s\u001b[0m 4ms/step - accuracy: 1.0000 - loss: 4.1123e-05 - val_accuracy: 1.0000 - val_loss: 1.0652e-11\n",
            "Epoch 9/20\n",
            "\u001b[1m1458/1458\u001b[0m \u001b[32m━━━━━━━━━━━━━━━━━━━━\u001b[0m\u001b[37m\u001b[0m \u001b[1m9s\u001b[0m 3ms/step - accuracy: 1.0000 - loss: 3.4486e-05 - val_accuracy: 1.0000 - val_loss: 1.4417e-11\n",
            "Epoch 10/20\n",
            "\u001b[1m1458/1458\u001b[0m \u001b[32m━━━━━━━━━━━━━━━━━━━━\u001b[0m\u001b[37m\u001b[0m \u001b[1m5s\u001b[0m 3ms/step - accuracy: 1.0000 - loss: 3.9001e-05 - val_accuracy: 1.0000 - val_loss: 1.0134e-05\n",
            "Epoch 11/20\n",
            "\u001b[1m1458/1458\u001b[0m \u001b[32m━━━━━━━━━━━━━━━━━━━━\u001b[0m\u001b[37m\u001b[0m \u001b[1m4s\u001b[0m 2ms/step - accuracy: 1.0000 - loss: 5.6110e-05 - val_accuracy: 1.0000 - val_loss: 1.6034e-05\n",
            "Epoch 12/20\n",
            "\u001b[1m1458/1458\u001b[0m \u001b[32m━━━━━━━━━━━━━━━━━━━━\u001b[0m\u001b[37m\u001b[0m \u001b[1m9s\u001b[0m 5ms/step - accuracy: 0.9999 - loss: 0.0021 - val_accuracy: 1.0000 - val_loss: 4.8985e-13\n",
            "Epoch 13/20\n",
            "\u001b[1m1458/1458\u001b[0m \u001b[32m━━━━━━━━━━━━━━━━━━━━\u001b[0m\u001b[37m\u001b[0m \u001b[1m5s\u001b[0m 3ms/step - accuracy: 1.0000 - loss: 8.6051e-05 - val_accuracy: 1.0000 - val_loss: 2.1350e-13\n",
            "Epoch 14/20\n",
            "\u001b[1m1458/1458\u001b[0m \u001b[32m━━━━━━━━━━━━━━━━━━━━\u001b[0m\u001b[37m\u001b[0m \u001b[1m5s\u001b[0m 3ms/step - accuracy: 1.0000 - loss: 1.1590e-04 - val_accuracy: 1.0000 - val_loss: 2.6318e-13\n",
            "Epoch 15/20\n",
            "\u001b[1m1458/1458\u001b[0m \u001b[32m━━━━━━━━━━━━━━━━━━━━\u001b[0m\u001b[37m\u001b[0m \u001b[1m6s\u001b[0m 4ms/step - accuracy: 1.0000 - loss: 5.6838e-05 - val_accuracy: 1.0000 - val_loss: 1.1613e-10\n",
            "Epoch 16/20\n",
            "\u001b[1m1458/1458\u001b[0m \u001b[32m━━━━━━━━━━━━━━━━━━━━\u001b[0m\u001b[37m\u001b[0m \u001b[1m9s\u001b[0m 3ms/step - accuracy: 1.0000 - loss: 4.5855e-04 - val_accuracy: 1.0000 - val_loss: 1.5267e-10\n",
            "Epoch 17/20\n",
            "\u001b[1m1458/1458\u001b[0m \u001b[32m━━━━━━━━━━━━━━━━━━━━\u001b[0m\u001b[37m\u001b[0m \u001b[1m7s\u001b[0m 5ms/step - accuracy: 1.0000 - loss: 2.4267e-04 - val_accuracy: 1.0000 - val_loss: 3.4475e-13\n",
            "Epoch 18/20\n",
            "\u001b[1m1458/1458\u001b[0m \u001b[32m━━━━━━━━━━━━━━━━━━━━\u001b[0m\u001b[37m\u001b[0m \u001b[1m8s\u001b[0m 3ms/step - accuracy: 1.0000 - loss: 1.4916e-05 - val_accuracy: 1.0000 - val_loss: 3.3833e-13\n",
            "Epoch 19/20\n",
            "\u001b[1m1458/1458\u001b[0m \u001b[32m━━━━━━━━━━━━━━━━━━━━\u001b[0m\u001b[37m\u001b[0m \u001b[1m7s\u001b[0m 4ms/step - accuracy: 0.9999 - loss: 3.3241e-04 - val_accuracy: 1.0000 - val_loss: 7.0658e-14\n",
            "Epoch 20/20\n",
            "\u001b[1m1458/1458\u001b[0m \u001b[32m━━━━━━━━━━━━━━━━━━━━\u001b[0m\u001b[37m\u001b[0m \u001b[1m9s\u001b[0m 3ms/step - accuracy: 1.0000 - loss: 9.2258e-05 - val_accuracy: 1.0000 - val_loss: 4.0019e-10\n"
          ]
        }
      ],
      "source": [
        "history = model.fit(X_train, y_train, epochs=20, batch_size=64, validation_split=0.2)"
      ]
    },
    {
      "cell_type": "markdown",
      "id": "d9f991d0",
      "metadata": {
        "id": "d9f991d0"
      },
      "source": [
        "Evaluación del modelo"
      ]
    },
    {
      "cell_type": "code",
      "execution_count": 23,
      "id": "3599dd5c",
      "metadata": {
        "colab": {
          "base_uri": "https://localhost:8080/"
        },
        "id": "3599dd5c",
        "outputId": "ed3d9b2d-e22c-40d9-a606-54a9000b7ffc"
      },
      "outputs": [
        {
          "output_type": "stream",
          "name": "stdout",
          "text": [
            "\u001b[1m912/912\u001b[0m \u001b[32m━━━━━━━━━━━━━━━━━━━━\u001b[0m\u001b[37m\u001b[0m \u001b[1m1s\u001b[0m 1ms/step\n",
            "[[23915     0]\n",
            " [    0  5242]]\n",
            "              precision    recall  f1-score   support\n",
            "\n",
            "           0       1.00      1.00      1.00     23915\n",
            "           1       1.00      1.00      1.00      5242\n",
            "\n",
            "    accuracy                           1.00     29157\n",
            "   macro avg       1.00      1.00      1.00     29157\n",
            "weighted avg       1.00      1.00      1.00     29157\n",
            "\n"
          ]
        }
      ],
      "source": [
        "y_pred = (model.predict(X_test) > 0.5).astype(int)\n",
        "\n",
        "print(confusion_matrix(y_test, y_pred))\n",
        "print(classification_report(y_test, y_pred))"
      ]
    },
    {
      "cell_type": "markdown",
      "id": "856628fd",
      "metadata": {
        "id": "856628fd"
      },
      "source": [
        "Probabilidad de impago"
      ]
    },
    {
      "cell_type": "code",
      "execution_count": 24,
      "id": "7f68b1b2",
      "metadata": {
        "colab": {
          "base_uri": "https://localhost:8080/"
        },
        "id": "7f68b1b2",
        "outputId": "fda8035d-ba0c-4dc5-98f4-6de3cb24804c"
      },
      "outputs": [
        {
          "output_type": "stream",
          "name": "stdout",
          "text": [
            "\u001b[1m912/912\u001b[0m \u001b[32m━━━━━━━━━━━━━━━━━━━━\u001b[0m\u001b[37m\u001b[0m \u001b[1m2s\u001b[0m 3ms/step\n",
            "[[8.16463622e-36]\n",
            " [1.89806356e-31]\n",
            " [1.02128935e-35]\n",
            " [1.12991623e-36]\n",
            " [2.21542677e-36]\n",
            " [6.85845764e-32]\n",
            " [1.19065458e-38]\n",
            " [8.89344048e-38]\n",
            " [8.45258634e-29]\n",
            " [1.71157097e-36]]\n",
            "Index(['feature_0', 'feature_1', 'feature_2', 'feature_3', 'feature_4',\n",
            "       'feature_5', 'feature_6', 'feature_7', 'feature_8', 'feature_9',\n",
            "       'feature_10', 'feature_11', 'feature_12', 'feature_13', 'feature_14',\n",
            "       'feature_15', 'feature_16', 'feature_17', 'feature_18', 'feature_19',\n",
            "       'feature_20', 'feature_21', 'feature_22', 'feature_23', 'feature_24',\n",
            "       'feature_25', 'feature_26', 'feature_27', 'feature_28', 'feature_29',\n",
            "       'feature_30', 'feature_31', 'feature_32', 'feature_33', 'feature_34',\n",
            "       'feature_35', 'feature_36', 'feature_37', 'feature_38', 'feature_39',\n",
            "       'feature_40', 'feature_41', 'feature_42', 'feature_43', 'feature_44',\n",
            "       'feature_45', 'feature_46', 'feature_47', 'feature_48', 'feature_49',\n",
            "       'feature_50', 'feature_51', 'feature_52', 'feature_53', 'feature_54',\n",
            "       'feature_55', 'feature_56', 'feature_57', 'feature_58', 'feature_59',\n",
            "       'feature_60', 'feature_61', 'feature_62', 'feature_63', 'feature_64',\n",
            "       'feature_65', 'feature_66', 'feature_67', 'feature_68', 'feature_69',\n",
            "       'feature_70', 'feature_71', 'feature_72', 'feature_73', 'feature_74',\n",
            "       'feature_75', 'feature_76', 'feature_77', 'feature_78', 'feature_79',\n",
            "       'feature_80', 'feature_81', 'feature_82', 'feature_83', 'feature_84',\n",
            "       'feature_85', 'feature_86', 'feature_87', 'feature_88', 'feature_89',\n",
            "       'feature_90', 'feature_91', 'feature_92', 'feature_93', 'feature_94',\n",
            "       'feature_95', 'probabilidad_impago', 'loan_status'],\n",
            "      dtype='object')\n"
          ]
        }
      ],
      "source": [
        "probabilidad_impago = model.predict(X_test)\n",
        "print(probabilidad_impago[:10])  #Probabilidad para los primeros 10 casos\n",
        "# Crear nombres genéricos para las columnas de X_test\n",
        "column_names = [f'feature_{i}' for i in range(X_test.shape[1])]\n",
        "df_test = pd.DataFrame(X_test, columns=column_names)\n",
        "# Añadiendo las columnas de probabilidad y estado del préstamo al DataFrame\n",
        "df_test['probabilidad_impago'] = probabilidad_impago.flatten()\n",
        "df_test['loan_status'] = y_test\n",
        "print(df_test.columns)\n"
      ]
    },
    {
      "cell_type": "markdown",
      "id": "637d9452",
      "metadata": {
        "id": "637d9452"
      },
      "source": [
        "Respuestas a las preguntas del documento"
      ]
    },
    {
      "cell_type": "markdown",
      "id": "63f29e94",
      "metadata": {
        "id": "63f29e94"
      },
      "source": [
        "Considere el rendimiento de una inversión correspondiente al retorno anual de la inversión."
      ]
    },
    {
      "cell_type": "code",
      "execution_count": 26,
      "id": "2c35090d",
      "metadata": {
        "colab": {
          "base_uri": "https://localhost:8080/"
        },
        "id": "2c35090d",
        "outputId": "aa719780-07b0-48b2-9472-d612c96acf1e"
      },
      "outputs": [
        {
          "output_type": "stream",
          "name": "stdout",
          "text": [
            "Retorno anual promedio: 0.0003733111261247552\n"
          ]
        }
      ],
      "source": [
        "# Paso 1: Reconstruir 'term' a partir de la variable dummy 'term_ 60 months'\n",
        "df['term'] = df['term_ 60 months'].apply(lambda x: '60 months' if x == 1 else '36 months')\n",
        "\n",
        "# Paso 2: Calcular retorno bruto\n",
        "df['retorno'] = (df['total_pymnt_inv'] / df['loan_amnt']) - 1\n",
        "\n",
        "# Paso 3: Convertir 'term' a años\n",
        "df['term_years'] = df['term'].apply(lambda x: int(x.split()[0])) / 12\n",
        "\n",
        "# Paso 4: Calcular retorno anualizado\n",
        "df['retorno_anual'] = ((df['retorno'] + 1) ** (1 / df['term_years'])) - 1\n",
        "\n",
        "# Paso 5: Ver retorno anual promedio\n",
        "print(\"Retorno anual promedio:\", df['retorno_anual'].mean())\n"
      ]
    },
    {
      "cell_type": "markdown",
      "id": "0fad5112",
      "metadata": {
        "id": "0fad5112"
      },
      "source": [
        "¿Los préstamos cancelados, generaron algún tipo de retorno?"
      ]
    },
    {
      "cell_type": "code",
      "execution_count": 56,
      "id": "1e605dbe",
      "metadata": {
        "colab": {
          "base_uri": "https://localhost:8080/"
        },
        "id": "1e605dbe",
        "outputId": "8d96ec00-a6ce-4230-aba5-62454c11307f"
      },
      "outputs": [
        {
          "output_type": "stream",
          "name": "stdout",
          "text": [
            "Total Charged Off: 0\n",
            "Con algún pago: 0\n",
            "count    0.0\n",
            "mean     NaN\n",
            "std      NaN\n",
            "min      NaN\n",
            "25%      NaN\n",
            "50%      NaN\n",
            "75%      NaN\n",
            "max      NaN\n",
            "Name: total_pymnt_inv, dtype: float64\n"
          ]
        }
      ],
      "source": [
        "# Filtrar los préstamos \"Charged Off\"\n",
        "charged_off = df[df['loan_status'] == 'Charged Off']\n",
        "\n",
        "# Verificar si generaron algún pago\n",
        "pagos_realizados = charged_off[charged_off['total_pymnt_inv'] > 0]\n",
        "\n",
        "# Estadísticas de los pagos realizados (si los hay)\n",
        "print(\"Total Charged Off:\", len(charged_off))\n",
        "print(\"Con algún pago:\", len(pagos_realizados))\n",
        "print(pagos_realizados['total_pymnt_inv'].describe())\n"
      ]
    },
    {
      "cell_type": "markdown",
      "id": "033350c5",
      "metadata": {
        "id": "033350c5"
      },
      "source": [
        "¿Cómo se explica la variación de los retornos de los créditos cancelados con respecto a la categoría del crédito?"
      ]
    },
    {
      "cell_type": "code",
      "source": [
        "print(cancelados.columns)\n"
      ],
      "metadata": {
        "colab": {
          "base_uri": "https://localhost:8080/"
        },
        "id": "AzVJJ5SvQNlu",
        "outputId": "da00a332-992c-4f10-81e8-1bb931e3f813"
      },
      "id": "AzVJJ5SvQNlu",
      "execution_count": 28,
      "outputs": [
        {
          "output_type": "stream",
          "name": "stdout",
          "text": [
            "Index(['loan_amnt', 'int_rate', 'installment', 'annual_inc', 'dti',\n",
            "       'delinq_2yrs', 'fico_range_low', 'fico_range_high', 'inq_last_6mths',\n",
            "       'mths_since_last_delinq',\n",
            "       ...\n",
            "       'loan_status_original_Late (31-120 days)', 'ingreso_mensual',\n",
            "       'cuota_ingreso', 'empleo_estable', 'rango_fico_promedio', 'term',\n",
            "       'retorno', 'term_years', 'retorno_anual', 'grade'],\n",
            "      dtype='object', length=106)\n"
          ]
        }
      ]
    },
    {
      "cell_type": "code",
      "execution_count": 29,
      "id": "6d3617e8",
      "metadata": {
        "colab": {
          "base_uri": "https://localhost:8080/",
          "height": 699
        },
        "id": "6d3617e8",
        "outputId": "c8b29494-79f7-4348-dd98-2966dba21311"
      },
      "outputs": [
        {
          "output_type": "stream",
          "name": "stderr",
          "text": [
            "<ipython-input-29-e4c27af9765c>:18: FutureWarning: \n",
            "\n",
            "Passing `palette` without assigning `hue` is deprecated and will be removed in v0.14.0. Assign the `x` variable to `hue` and set `legend=False` for the same effect.\n",
            "\n",
            "  sns.barplot(x=retorno_por_categoria.index, y=retorno_por_categoria.values, palette='viridis')\n"
          ]
        },
        {
          "output_type": "display_data",
          "data": {
            "text/plain": [
              "<Figure size 1000x600 with 1 Axes>"
            ],
            "image/png": "[encoded data removed]"
          },
          "metadata": {}
        }
      ],
      "source": [
        "# Paso 1: Crear la columna 'grade'\n",
        "grade_cols = [col for col in df.columns if col.startswith('grade_') and len(col) == 7]\n",
        "df['grade'] = df[grade_cols].idxmax(axis=1).str[-1]\n",
        "\n",
        "# Paso 2: Filtrar los préstamos cancelados\n",
        "cancelados = df[df['loan_status_original_Fully Paid'] == 1].copy()\n",
        "\n",
        "# Paso 3: Calcular el número de años (3 si no es 60 meses)\n",
        "cancelados['term_years'] = cancelados['term_ 60 months'].apply(lambda x: 5 if x == 1 else 3)\n",
        "\n",
        "# Paso 4: Calcular retorno anual compuesto\n",
        "cancelados['retorno_anual'] = (cancelados['total_pymnt_inv'] / cancelados['loan_amnt']) ** (1 / cancelados['term_years']) - 1\n",
        "\n",
        "# Paso 5: Agrupar y visualizar\n",
        "retorno_por_categoria = cancelados.groupby('grade')['retorno_anual'].mean().sort_index()\n",
        "\n",
        "plt.figure(figsize=(10,6))\n",
        "sns.barplot(x=retorno_por_categoria.index, y=retorno_por_categoria.values, palette='viridis')\n",
        "plt.title('Retorno anual promedio por categoría de crédito (Cancelados)')\n",
        "plt.xlabel('Categoría del crédito (grade)')\n",
        "plt.ylabel('Retorno anual promedio (%)')\n",
        "plt.tight_layout()\n",
        "plt.show()\n"
      ]
    },
    {
      "cell_type": "markdown",
      "id": "4e59b63c",
      "metadata": {
        "id": "4e59b63c"
      },
      "source": [
        "¿Existe diferencia entre el promedio de retorno de los créditos y la tasa de interés promedio? ¿Qué significa esta diferencia?"
      ]
    },
    {
      "cell_type": "code",
      "execution_count": 30,
      "id": "1eebdf9e",
      "metadata": {
        "colab": {
          "base_uri": "https://localhost:8080/"
        },
        "id": "1eebdf9e",
        "outputId": "eb79fc48-4ec7-4055-a9b0-ddbc4cbd9021"
      },
      "outputs": [
        {
          "output_type": "stream",
          "name": "stdout",
          "text": [
            "Tasa de interés promedio: 12.271014308840476\n",
            "Retorno anual promedio: 0.0003733111261247552\n",
            "Diferencia: 12.27064099771435\n"
          ]
        }
      ],
      "source": [
        "# Calcular promedios\n",
        "retorno_promedio = df['retorno_anual'].mean()\n",
        "tasa_promedio = df['int_rate'].mean()\n",
        "diferencia = tasa_promedio - retorno_promedio\n",
        "\n",
        "# Mostrar resultados\n",
        "print(\"Tasa de interés promedio:\", tasa_promedio)\n",
        "print(\"Retorno anual promedio:\", retorno_promedio)\n",
        "print(\"Diferencia:\", diferencia)"
      ]
    },
    {
      "cell_type": "markdown",
      "id": "5ff336be",
      "metadata": {
        "id": "5ff336be"
      },
      "source": [
        "¿Asumiendo el rol del inversionista, en cuáles créditos preferiría invertir y cuáles son las razones que motivan la decisión?"
      ]
    },
    {
      "cell_type": "code",
      "execution_count": 31,
      "id": "e765bb61",
      "metadata": {
        "id": "e765bb61"
      },
      "outputs": [],
      "source": [
        "# Cálculos previos necesarios\n",
        "df['ingreso_mensual'] = df['annual_inc'] / 12\n",
        "df['cuota_ingreso'] = df['installment'] / df['ingreso_mensual']\n",
        "df['rango_fico_promedio'] = (df['fico_range_low'] + df['fico_range_high']) / 2\n",
        "\n",
        "# Crear columna de empleo estable con las variables dummies que ya tienes\n",
        "df['empleo_estable'] = (\n",
        "    df[['emp_length_5 years', 'emp_length_6 years', 'emp_length_7 years',\n",
        "        'emp_length_8 years', 'emp_length_9 years', 'emp_length_10+ years']]\n",
        "    .sum(axis=1)\n",
        "    .apply(lambda x: 1 if x >= 1 else 0)\n",
        ")\n"
      ]
    },
    {
      "cell_type": "code",
      "execution_count": 60,
      "id": "c27d6602",
      "metadata": {
        "id": "c27d6602"
      },
      "outputs": [],
      "source": [
        "def seleccionar_creditos_preferidos(df, tasa_min=12.0, fico_min=680, cuota_ingreso_max=0.3):\n",
        "    \"\"\"\n",
        "    Filtra créditos recomendados para un inversionista basado en riesgo y retorno.\n",
        "\n",
        "    Parámetros:\n",
        "        df: DataFrame con los datos\n",
        "        tasa_min: Tasa mínima de interés deseada (default: 12%)\n",
        "        fico_min: Puntaje FICO promedio mínimo (default: 680)\n",
        "        cuota_ingreso_max: Máxima proporción de cuota/ingreso (default: 0.30)\n",
        "\n",
        "    Retorna:\n",
        "        DataFrame con créditos seleccionados y su justificación\n",
        "    \"\"\"\n",
        "    filtro = (\n",
        "        (df['int_rate'] >= tasa_min) &\n",
        "        (df['rango_fico_promedio'] >= fico_min) &\n",
        "        (df['cuota_ingreso'] <= cuota_ingreso_max) &\n",
        "        (df['empleo_estable'] == 1) &\n",
        "        (df['delinq_2yrs'] == 0) &\n",
        "        (df['pub_rec_bankruptcies'] == 0) &\n",
        "        (df['loan_status'].astype(str).str.lower().str.contains(\"fully paid|current\"))\n",
        "    )\n",
        "\n",
        "    seleccionados = df[filtro].copy()\n",
        "\n",
        "    seleccionados['motivo_seleccion'] = (\n",
        "        \"Alta tasa (\" + seleccionados['int_rate'].astype(str) + \"%), \" +\n",
        "        \"FICO promedio \" + seleccionados['rango_fico_promedio'].round().astype(int).astype(str) + \", \" +\n",
        "        \"cuota/ingreso: \" + seleccionados['cuota_ingreso'].round(2).astype(str) + \", \" +\n",
        "        \"empleo estable\"\n",
        "    )\n",
        "\n",
        "    return seleccionados[['loan_amnt', 'int_rate', 'rango_fico_promedio', 'cuota_ingreso',\n",
        "                          'empleo_estable', 'delinq_2yrs', 'pub_rec_bankruptcies',\n",
        "                          'loan_status', 'motivo_seleccion']]\n"
      ]
    },
    {
      "cell_type": "code",
      "source": [
        "print(f\"Total de créditos: {len(df)}\")\n",
        "print(f\"Total recomendados: {len(creditos_recomendados)}\")\n",
        "print(df['int_rate'].describe())\n",
        "sns.histplot(df['int_rate'], bins=30)\n",
        "plt.title(\"Distribución de tasas de interés\")\n",
        "plt.show()\n"
      ],
      "metadata": {
        "colab": {
          "base_uri": "https://localhost:8080/",
          "height": 675
        },
        "id": "8ZMdwdT6vMcA",
        "outputId": "793634a5-08ac-479e-9272-00f8a44d849c"
      },
      "id": "8ZMdwdT6vMcA",
      "execution_count": 61,
      "outputs": [
        {
          "output_type": "stream",
          "name": "stdout",
          "text": [
            "Total de créditos: 145784\n",
            "Total recomendados: 0\n",
            "count    145784.000000\n",
            "mean         12.271014\n",
            "std           4.202302\n",
            "min           5.320000\n",
            "25%           9.170000\n",
            "50%          12.050000\n",
            "75%          14.650000\n",
            "max          28.990000\n",
            "Name: int_rate, dtype: float64\n"
          ]
        },
        {
          "output_type": "display_data",
          "data": {
            "text/plain": [
              "<Figure size 640x480 with 1 Axes>"
            ],
            "image/png": "[encoded data removed]"
          },
          "metadata": {}
        }
      ]
    },
    {
      "cell_type": "code",
      "source": [
        "import seaborn as sns\n",
        "import matplotlib.pyplot as plt\n",
        "\n",
        "# Comparar tasas de interés de créditos recomendados vs no recomendados\n",
        "df['es_recomendado'] = df.index.isin(creditos_recomendados.index)\n",
        "\n",
        "plt.figure(figsize=(10, 5))\n",
        "sns.boxplot(data=df, x='es_recomendado', y='int_rate')\n",
        "plt.title(\"Comparación de tasas de interés entre créditos recomendados y no recomendados\")\n",
        "plt.xlabel(\"¿Es recomendado?\")\n",
        "plt.ylabel(\"Tasa de interés (%)\")\n",
        "plt.show()\n"
      ],
      "metadata": {
        "colab": {
          "base_uri": "https://localhost:8080/",
          "height": 488
        },
        "id": "4BS98tEiamBL",
        "outputId": "f293abf8-1175-4514-f51a-74513e738341"
      },
      "id": "4BS98tEiamBL",
      "execution_count": 62,
      "outputs": [
        {
          "output_type": "display_data",
          "data": {
            "text/plain": [
              "<Figure size 1000x500 with 1 Axes>"
            ],
            "image/png": "[encoded data removed]"
          },
          "metadata": {}
        }
      ]
    },
    {
      "cell_type": "markdown",
      "id": "54966093",
      "metadata": {
        "id": "54966093"
      },
      "source": [
        "Construya al menos 3 atributos derivados que pueden utilizarse para predecir el impago del crédito. Justifique el atributo en términos del negocio. Justifique el nuevo atributo en términos del rendimiento del modelo."
      ]
    },
    {
      "cell_type": "code",
      "execution_count": 35,
      "id": "f7db8411",
      "metadata": {
        "colab": {
          "base_uri": "https://localhost:8080/"
        },
        "id": "f7db8411",
        "outputId": "589076b9-a8df-45a0-8b6b-6c2ce55a4e32"
      },
      "outputs": [
        {
          "output_type": "stream",
          "name": "stdout",
          "text": [
            "Ingreso mensual promedio: 6564.142425603404\n",
            "Cuota ingreso promedio: inf\n",
            "Empleo estable promedio: 0.5656793612467761\n"
          ]
        }
      ],
      "source": [
        "# Atributo 1: Ingreso mensual\n",
        "df['ingreso_mensual'] = df['annual_inc'] / 12\n",
        "df['cuota_ingreso'] = df['installment'] / df['ingreso_mensual']\n",
        "\n",
        "# Atributo 2: Relación cuota-ingreso\n",
        "df['empleo_estable'] = (\n",
        "    df[['emp_length_5 years', 'emp_length_6 years', 'emp_length_7 years',\n",
        "        'emp_length_8 years', 'emp_length_9 years', 'emp_length_10+ years']]\n",
        "    .sum(axis=1)\n",
        "    .apply(lambda x: 1 if x >= 1 else 0)\n",
        ")\n",
        "\n",
        "# Atributo 3: Promedio Empleo Estable\n",
        "df['rango_fico_promedio'] = (df['fico_range_low'] + df['fico_range_high']) / 2\n",
        "\n",
        "# Ver resultados\n",
        "print(\"Ingreso mensual promedio:\", df['ingreso_mensual'].mean())\n",
        "print(\"Cuota ingreso promedio:\", df['cuota_ingreso'].mean())\n",
        "print(\"Empleo estable promedio:\", df['empleo_estable'].mean())\n",
        "\n"
      ]
    },
    {
      "cell_type": "markdown",
      "id": "d022686c",
      "metadata": {
        "id": "d022686c"
      },
      "source": [
        "¿Cuáles variables debe excluir del análisis porque se consideran fuga de datos?"
      ]
    },
    {
      "cell_type": "code",
      "execution_count": 48,
      "id": "69de4030",
      "metadata": {
        "id": "69de4030"
      },
      "outputs": [],
      "source": [
        "import pandas as pd\n",
        "\n",
        "def detectar_fugas_logicas(df, variable_objetivo='retorno_anual', umbral_corr=0.6, verbose=True):\n",
        "    \"\"\"\n",
        "    Detecta variables que podrían representar fugas de datos al tener una correlación alta con la variable objetivo\n",
        "    y ser lógicamente posteriores (según un conjunto de palabras clave y tipo de datos).\n",
        "    \"\"\"\n",
        "    posibles_fugas = []\n",
        "\n",
        "    # Solo usamos variables numéricas para la correlación\n",
        "    df_numerico = df.select_dtypes(include=['number'])\n",
        "\n",
        "    if variable_objetivo not in df_numerico.columns:\n",
        "        if verbose:\n",
        "            print(\"❌ La variable objetivo no es numérica o no está en el DataFrame.\")\n",
        "        return []\n",
        "\n",
        "    # Calcular correlación con la variable objetivo\n",
        "    correlaciones = df_numerico.corr()[variable_objetivo].drop(variable_objetivo)\n",
        "\n",
        "    for col, corr in correlaciones.items():\n",
        "        if abs(corr) >= umbral_corr:\n",
        "            posibles_fugas.append((col, corr))\n",
        "\n",
        "    if verbose:\n",
        "        if posibles_fugas:\n",
        "            print(\"⚠️ Variables potenciales con fuga (alta correlación con el retorno):\")\n",
        "            for col, corr in posibles_fugas:\n",
        "                print(f\" - {col} (correlación: {corr:.2f})\")\n",
        "        else:\n",
        "            print(\"✅ No se detectaron variables numéricas con alta correlación con el retorno.\")\n",
        "\n",
        "    return [col for col, _ in posibles_fugas]\n"
      ]
    },
    {
      "cell_type": "code",
      "source": [
        "columnas_fuga_avanzado = detectar_fugas_logicas(df, variable_objetivo='retorno_anual')\n",
        "df_sin_fugas = df.drop(columns=columnas_fuga_avanzado)\n"
      ],
      "metadata": {
        "colab": {
          "base_uri": "https://localhost:8080/"
        },
        "id": "8tHhHO_Mb-n0",
        "outputId": "a70368a4-c193-4c08-e92b-b6035bfd5bc6"
      },
      "id": "8tHhHO_Mb-n0",
      "execution_count": 49,
      "outputs": [
        {
          "output_type": "stream",
          "name": "stdout",
          "text": [
            "⚠️ Variables potenciales con fuga (alta correlación con el retorno):\n",
            " - loan_status (correlación: -0.78)\n",
            " - retorno (correlación: 0.96)\n"
          ]
        }
      ]
    },
    {
      "cell_type": "markdown",
      "id": "346dd84a",
      "metadata": {
        "id": "346dd84a"
      },
      "source": [
        "¿Cuáles variables individuales son particularmente útiles para predecir la variable dependiente del estado del crédito?"
      ]
    },
    {
      "cell_type": "code",
      "source": [
        "from scipy.stats import pointbiserialr\n",
        "\n",
        "def medir_correlacion_con_binaria(df, target='loan_status_original_Default'):\n",
        "    correlaciones = {}\n",
        "    for col in df.columns:\n",
        "        if col != target and df[col].dtype in ['int64', 'float64']:\n",
        "            try:\n",
        "                corr, _ = pointbiserialr(df[target], df[col])\n",
        "                correlaciones[col] = abs(corr)\n",
        "            except:\n",
        "                pass  # Ignora columnas con errores\n",
        "    return pd.Series(correlaciones).sort_values(ascending=False)\n"
      ],
      "metadata": {
        "id": "_t4KP9NFdeJS"
      },
      "id": "_t4KP9NFdeJS",
      "execution_count": 45,
      "outputs": []
    },
    {
      "cell_type": "code",
      "source": [
        "top_variables = medir_correlacion_con_binaria(df)\n",
        "print(top_variables.head(10))\n"
      ],
      "metadata": {
        "colab": {
          "base_uri": "https://localhost:8080/"
        },
        "id": "SMz281wFp4_q",
        "outputId": "4157083f-8b70-4ccf-b5eb-e395bc8ca810"
      },
      "id": "SMz281wFp4_q",
      "execution_count": 46,
      "outputs": [
        {
          "output_type": "stream",
          "name": "stdout",
          "text": [
            "total_acc          0.007497\n",
            "mort_acc           0.007152\n",
            "loan_amnt          0.006002\n",
            "loan_status        0.005594\n",
            "int_rate           0.005434\n",
            "installment        0.005395\n",
            "revol_util         0.005030\n",
            "total_pymnt_inv    0.004079\n",
            "term_years         0.003795\n",
            "open_acc           0.003685\n",
            "dtype: float64\n"
          ]
        },
        {
          "output_type": "stream",
          "name": "stderr",
          "text": [
            "/usr/local/lib/python3.11/dist-packages/scipy/stats/_stats_py.py:4894: RuntimeWarning: invalid value encountered in subtract\n",
            "  ym = y - ymean\n"
          ]
        }
      ]
    },
    {
      "cell_type": "markdown",
      "id": "2df1ea93",
      "metadata": {
        "id": "2df1ea93"
      },
      "source": [
        "Construya una medida que relacione cada una de las variables independientes con la variable predictora. Considere que la variable a predecir es binaria, Describa la interpretación de la medida."
      ]
    },
    {
      "cell_type": "code",
      "source": [
        "from scipy.stats import pointbiserialr\n",
        "import pandas as pd\n",
        "\n",
        "def medir_correlacion_con_binaria(df, target='default'):\n",
        "    correlaciones = {}\n",
        "\n",
        "    for col in df.columns:\n",
        "        if col == target:\n",
        "            continue\n",
        "        if pd.api.types.is_numeric_dtype(df[col]):\n",
        "            try:\n",
        "                corr, _ = pointbiserialr(df[target], df[col])\n",
        "                if not pd.isna(corr):\n",
        "                    correlaciones[col] = float(corr)  # asegurar que es numérico\n",
        "            except:\n",
        "                pass  # Ignora errores\n",
        "    correlaciones = pd.Series(correlaciones)\n",
        "    correlaciones = correlaciones.sort_values(key=lambda x: abs(x), ascending=False)\n",
        "    return correlaciones\n"
      ],
      "metadata": {
        "id": "DD1lCWF98QoH"
      },
      "id": "DD1lCWF98QoH",
      "execution_count": 42,
      "outputs": []
    },
    {
      "cell_type": "code",
      "source": [
        "correlaciones = medir_correlacion_con_binaria(df, target='loan_status_original_Default')\n",
        "correlaciones.head(10)\n"
      ],
      "metadata": {
        "id": "EmwCMAzt8bom",
        "colab": {
          "base_uri": "https://localhost:8080/",
          "height": 398
        },
        "outputId": "a61572b3-af2a-40ca-8101-0d6589eb8d89"
      },
      "id": "EmwCMAzt8bom",
      "execution_count": 47,
      "outputs": [
        {
          "output_type": "execute_result",
          "data": {
            "text/plain": [
              "total_acc          0.007497\n",
              "mort_acc           0.007152\n",
              "loan_amnt          0.006002\n",
              "loan_status        0.005594\n",
              "int_rate           0.005434\n",
              "installment        0.005395\n",
              "revol_util         0.005030\n",
              "total_pymnt_inv    0.004079\n",
              "term_years         0.003795\n",
              "open_acc           0.003685\n",
              "dtype: float64"
            ],
            "text/html": [
              "<div>\n",
              "<style scoped>\n",
              "    .dataframe tbody tr th:only-of-type {\n",
              "        vertical-align: middle;\n",
              "    }\n",
              "\n",
              "    .dataframe tbody tr th {\n",
              "        vertical-align: top;\n",
              "    }\n",
              "\n",
              "    .dataframe thead th {\n",
              "        text-align: right;\n",
              "    }\n",
              "</style>\n",
              "<table border=\"1\" class=\"dataframe\">\n",
              "  <thead>\n",
              "    <tr style=\"text-align: right;\">\n",
              "      <th></th>\n",
              "      <th>0</th>\n",
              "    </tr>\n",
              "  </thead>\n",
              "  <tbody>\n",
              "    <tr>\n",
              "      <th>total_acc</th>\n",
              "      <td>0.007497</td>\n",
              "    </tr>\n",
              "    <tr>\n",
              "      <th>mort_acc</th>\n",
              "      <td>0.007152</td>\n",
              "    </tr>\n",
              "    <tr>\n",
              "      <th>loan_amnt</th>\n",
              "      <td>0.006002</td>\n",
              "    </tr>\n",
              "    <tr>\n",
              "      <th>loan_status</th>\n",
              "      <td>0.005594</td>\n",
              "    </tr>\n",
              "    <tr>\n",
              "      <th>int_rate</th>\n",
              "      <td>0.005434</td>\n",
              "    </tr>\n",
              "    <tr>\n",
              "      <th>installment</th>\n",
              "      <td>0.005395</td>\n",
              "    </tr>\n",
              "    <tr>\n",
              "      <th>revol_util</th>\n",
              "      <td>0.005030</td>\n",
              "    </tr>\n",
              "    <tr>\n",
              "      <th>total_pymnt_inv</th>\n",
              "      <td>0.004079</td>\n",
              "    </tr>\n",
              "    <tr>\n",
              "      <th>term_years</th>\n",
              "      <td>0.003795</td>\n",
              "    </tr>\n",
              "    <tr>\n",
              "      <th>open_acc</th>\n",
              "      <td>0.003685</td>\n",
              "    </tr>\n",
              "  </tbody>\n",
              "</table>\n",
              "</div><br><label><b>dtype:</b> float64</label>"
            ]
          },
          "metadata": {},
          "execution_count": 47
        }
      ]
    }
  ],
  "metadata": {
    "kernelspec": {
      "display_name": "Python 3",
      "language": "python",
      "name": "python3"
    },
    "language_info": {
      "codemirror_mode": {
        "name": "ipython",
        "version": 3
      },
      "file_extension": ".py",
      "mimetype": "text/x-python",
      "name": "python",
      "nbconvert_exporter": "python",
      "pygments_lexer": "ipython3",
      "version": "3.11.1"
    },
    "colab": {
      "provenance": []
    }
  },
  "nbformat": 4,
  "nbformat_minor": 5
}