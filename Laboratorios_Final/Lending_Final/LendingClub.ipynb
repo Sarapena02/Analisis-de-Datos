{
 "cells": [
  {
   "cell_type": "markdown",
   "id": "d92a9b54",
   "metadata": {},
   "source": [
    "Librerías"
   ]
  },
  {
   "cell_type": "code",
   "id": "14695507",
   "metadata": {
    "jupyter": {
     "is_executing": true
    }
   },
   "source": [
    "pip install pandas numpy scikit-learn tensorflow"
   ],
   "outputs": [],
   "execution_count": null
  },
  {
   "cell_type": "code",
   "id": "3e9f85d0",
   "metadata": {
    "jupyter": {
     "is_executing": true
    }
   },
   "source": [
    "import pandas as pd\n",
    "import numpy as np\n",
    "from sklearn.model_selection import train_test_split\n",
    "from sklearn.preprocessing import StandardScaler, LabelEncoder\n",
    "from sklearn.metrics import classification_report, confusion_matrix\n",
    "from tensorflow.keras.models import Sequential\n",
    "from tensorflow.keras.layers import Dense, Dropout\n",
    "import matplotlib.pyplot as plt"
   ],
   "outputs": [],
   "execution_count": null
  },
  {
   "cell_type": "markdown",
   "id": "c6970a12",
   "metadata": {},
   "source": [
    "Carga y limpieza de los datos"
   ]
  },
  {
   "cell_type": "code",
   "id": "ab36966c",
   "metadata": {
    "jupyter": {
     "is_executing": true
    }
   },
   "source": [
    "#Cargamos el dataset en chunks para evitar errores de memoria\n",
    "chunk_size = 100000  #Cantidad de filas por chunk\n",
    "chunks = pd.read_csv('accepted_2007_to_2018Q4.csv', chunksize=chunk_size)\n",
    "#Variables útiles\n",
    "variables_utiles = [\n",
    "    'loan_amnt', 'term', 'int_rate', 'installment', 'grade', 'sub_grade',\n",
    "    'emp_length', 'home_ownership', 'annual_inc', 'verification_status',\n",
    "    'purpose', 'dti', 'delinq_2yrs', 'fico_range_low', 'fico_range_high',\n",
    "    'inq_last_6mths', 'mths_since_last_delinq', 'mths_since_last_record', 'open_acc', 'total_acc', 'revol_bal', 'revol_util',\n",
    "    'application_type', 'acc_now_delinq', 'pub_rec_bankruptcies', 'mort_acc',\n",
    "    'num_tl_90g_dpd_24m', 'loan_status', 'total_pymnt_inv', 'chargeoff_within_12_mths'\n",
    "]\n",
    "#Combinamos los chunks en un solo DataFrame con solo las variables útiles\n",
    "df = pd.concat(chunk[variables_utiles] for chunk in chunks)"
   ],
   "outputs": [],
   "execution_count": null
  },
  {
   "cell_type": "markdown",
   "id": "bd46bc80",
   "metadata": {},
   "source": [
    "Conociendo la variable objetivo y sus opciones"
   ]
  },
  {
   "cell_type": "code",
   "execution_count": 25,
   "id": "d5be5e76",
   "metadata": {},
   "outputs": [
    {
     "name": "stdout",
     "output_type": "stream",
     "text": [
      "loan_status\n",
      "Fully Paid                                             1076751\n",
      "Current                                                 878317\n",
      "Charged Off                                             268559\n",
      "Late (31-120 days)                                       21467\n",
      "In Grace Period                                           8436\n",
      "Late (16-30 days)                                         4349\n",
      "Does not meet the credit policy. Status:Fully Paid        1988\n",
      "Does not meet the credit policy. Status:Charged Off        761\n",
      "Default                                                     40\n",
      "Name: count, dtype: int64\n"
     ]
    }
   ],
   "source": [
    "print(df['loan_status'].value_counts())"
   ]
  },
  {
   "cell_type": "code",
   "execution_count": 5,
   "id": "9b04835b",
   "metadata": {},
   "outputs": [
    {
     "name": "stdout",
     "output_type": "stream",
     "text": [
      "['Fully Paid' 'Current' 'Charged Off' 'In Grace Period'\n",
      " 'Late (31-120 days)' 'Late (16-30 days)' 'Default' nan\n",
      " 'Does not meet the credit policy. Status:Fully Paid'\n",
      " 'Does not meet the credit policy. Status:Charged Off']\n"
     ]
    }
   ],
   "source": [
    "print(df['loan_status'].unique())"
   ]
  },
  {
   "cell_type": "markdown",
   "id": "2e80698f",
   "metadata": {},
   "source": [
    "Preprocesamiento de la variable objetivo"
   ]
  },
  {
   "cell_type": "code",
   "execution_count": 26,
   "id": "7bef7436",
   "metadata": {},
   "outputs": [],
   "source": [
    "#Convertimos el estado del préstamo a binario (1 = impago, 0 = pagado)\n",
    "df['loan_status'] = df['loan_status'].apply(lambda x: 1 if x in ['Charged Off', 'Default', 'Late (31-120 days)', 'Late (16-30 days)'] else 0)\n"
   ]
  },
  {
   "cell_type": "markdown",
   "id": "21c7f530",
   "metadata": {},
   "source": [
    "Preprocesamiento de las variables"
   ]
  },
  {
   "cell_type": "code",
   "execution_count": 27,
   "id": "255e1e78",
   "metadata": {},
   "outputs": [],
   "source": [
    "#Variables numéricas y categóricas\n",
    "vars_numericas = df.select_dtypes(include=['int64', 'float64']).drop('loan_status', axis=1).columns.tolist()\n",
    "vars_categoricas = df.select_dtypes(include='object').columns.tolist()\n",
    "\n",
    "#Imputación simple\n",
    "df[vars_numericas] = df[vars_numericas].fillna(df[vars_numericas].median())\n",
    "df[vars_categoricas] = df[vars_categoricas].fillna('Desconocido')\n",
    "\n",
    "#Codificación\n",
    "df = pd.get_dummies(df, columns=vars_categoricas, drop_first=True)\n",
    "\n",
    "#Escalar en chunks\n",
    "scaler = StandardScaler()\n",
    "X_chunks = []\n",
    "y_chunks = []\n",
    "\n",
    "chunk_size = 100000  #Define un tamaño de chunk adecuado\n",
    "for start in range(0, len(df), chunk_size):\n",
    "\tend = start + chunk_size\n",
    "\tchunk = df.iloc[start:end]\n",
    "\tX_chunk = scaler.fit_transform(chunk.drop('loan_status', axis=1))\n",
    "\ty_chunk = chunk['loan_status'].values\n",
    "\tX_chunks.append(X_chunk)\n",
    "\ty_chunks.append(y_chunk)\n",
    "\n",
    "#Concatenar los resultados\n",
    "X = np.vstack(X_chunks)\n",
    "y = np.concatenate(y_chunks)"
   ]
  },
  {
   "cell_type": "markdown",
   "id": "80c8ac0a",
   "metadata": {},
   "source": [
    "Dividir entre datos de entrenamiento y los de prueba"
   ]
  },
  {
   "cell_type": "code",
   "execution_count": 28,
   "id": "da18b795",
   "metadata": {},
   "outputs": [],
   "source": [
    "X_train, X_test, y_train, y_test = train_test_split(X, y, test_size=0.2, random_state=42, stratify=y)"
   ]
  },
  {
   "cell_type": "markdown",
   "id": "e464b155",
   "metadata": {},
   "source": [
    "Creación de la red neuronal"
   ]
  },
  {
   "cell_type": "code",
   "execution_count": 29,
   "id": "43626693",
   "metadata": {},
   "outputs": [
    {
     "name": "stderr",
     "output_type": "stream",
     "text": [
      "C:\\Users\\frank\\AppData\\Roaming\\Python\\Python311\\site-packages\\keras\\src\\layers\\core\\dense.py:87: UserWarning: Do not pass an `input_shape`/`input_dim` argument to a layer. When using Sequential models, prefer using an `Input(shape)` object as the first layer in the model instead.\n",
      "  super().__init__(activity_regularizer=activity_regularizer, **kwargs)\n"
     ]
    },
    {
     "data": {
      "text/html": [
       "<pre style=\"white-space:pre;overflow-x:auto;line-height:normal;font-family:Menlo,'DejaVu Sans Mono',consolas,'Courier New',monospace\"><span style=\"font-weight: bold\">Model: \"sequential_2\"</span>\n",
       "</pre>\n"
      ],
      "text/plain": [
       "\u001B[1mModel: \"sequential_2\"\u001B[0m\n"
      ]
     },
     "metadata": {},
     "output_type": "display_data"
    },
    {
     "data": {
      "text/html": [
       "<pre style=\"white-space:pre;overflow-x:auto;line-height:normal;font-family:Menlo,'DejaVu Sans Mono',consolas,'Courier New',monospace\">┏━━━━━━━━━━━━━━━━━━━━━━━━━━━━━━━━━┳━━━━━━━━━━━━━━━━━━━━━━━━┳━━━━━━━━━━━━━━━┓\n",
       "┃<span style=\"font-weight: bold\"> Layer (type)                    </span>┃<span style=\"font-weight: bold\"> Output Shape           </span>┃<span style=\"font-weight: bold\">       Param # </span>┃\n",
       "┡━━━━━━━━━━━━━━━━━━━━━━━━━━━━━━━━━╇━━━━━━━━━━━━━━━━━━━━━━━━╇━━━━━━━━━━━━━━━┩\n",
       "│ dense_6 (<span style=\"color: #0087ff; text-decoration-color: #0087ff\">Dense</span>)                 │ (<span style=\"color: #00d7ff; text-decoration-color: #00d7ff\">None</span>, <span style=\"color: #00af00; text-decoration-color: #00af00\">64</span>)             │         <span style=\"color: #00af00; text-decoration-color: #00af00\">6,528</span> │\n",
       "├─────────────────────────────────┼────────────────────────┼───────────────┤\n",
       "│ dropout_4 (<span style=\"color: #0087ff; text-decoration-color: #0087ff\">Dropout</span>)             │ (<span style=\"color: #00d7ff; text-decoration-color: #00d7ff\">None</span>, <span style=\"color: #00af00; text-decoration-color: #00af00\">64</span>)             │             <span style=\"color: #00af00; text-decoration-color: #00af00\">0</span> │\n",
       "├─────────────────────────────────┼────────────────────────┼───────────────┤\n",
       "│ dense_7 (<span style=\"color: #0087ff; text-decoration-color: #0087ff\">Dense</span>)                 │ (<span style=\"color: #00d7ff; text-decoration-color: #00d7ff\">None</span>, <span style=\"color: #00af00; text-decoration-color: #00af00\">32</span>)             │         <span style=\"color: #00af00; text-decoration-color: #00af00\">2,080</span> │\n",
       "├─────────────────────────────────┼────────────────────────┼───────────────┤\n",
       "│ dropout_5 (<span style=\"color: #0087ff; text-decoration-color: #0087ff\">Dropout</span>)             │ (<span style=\"color: #00d7ff; text-decoration-color: #00d7ff\">None</span>, <span style=\"color: #00af00; text-decoration-color: #00af00\">32</span>)             │             <span style=\"color: #00af00; text-decoration-color: #00af00\">0</span> │\n",
       "├─────────────────────────────────┼────────────────────────┼───────────────┤\n",
       "│ dense_8 (<span style=\"color: #0087ff; text-decoration-color: #0087ff\">Dense</span>)                 │ (<span style=\"color: #00d7ff; text-decoration-color: #00d7ff\">None</span>, <span style=\"color: #00af00; text-decoration-color: #00af00\">1</span>)              │            <span style=\"color: #00af00; text-decoration-color: #00af00\">33</span> │\n",
       "└─────────────────────────────────┴────────────────────────┴───────────────┘\n",
       "</pre>\n"
      ],
      "text/plain": [
       "┏━━━━━━━━━━━━━━━━━━━━━━━━━━━━━━━━━┳━━━━━━━━━━━━━━━━━━━━━━━━┳━━━━━━━━━━━━━━━┓\n",
       "┃\u001B[1m \u001B[0m\u001B[1mLayer (type)                   \u001B[0m\u001B[1m \u001B[0m┃\u001B[1m \u001B[0m\u001B[1mOutput Shape          \u001B[0m\u001B[1m \u001B[0m┃\u001B[1m \u001B[0m\u001B[1m      Param #\u001B[0m\u001B[1m \u001B[0m┃\n",
       "┡━━━━━━━━━━━━━━━━━━━━━━━━━━━━━━━━━╇━━━━━━━━━━━━━━━━━━━━━━━━╇━━━━━━━━━━━━━━━┩\n",
       "│ dense_6 (\u001B[38;5;33mDense\u001B[0m)                 │ (\u001B[38;5;45mNone\u001B[0m, \u001B[38;5;34m64\u001B[0m)             │         \u001B[38;5;34m6,528\u001B[0m │\n",
       "├─────────────────────────────────┼────────────────────────┼───────────────┤\n",
       "│ dropout_4 (\u001B[38;5;33mDropout\u001B[0m)             │ (\u001B[38;5;45mNone\u001B[0m, \u001B[38;5;34m64\u001B[0m)             │             \u001B[38;5;34m0\u001B[0m │\n",
       "├─────────────────────────────────┼────────────────────────┼───────────────┤\n",
       "│ dense_7 (\u001B[38;5;33mDense\u001B[0m)                 │ (\u001B[38;5;45mNone\u001B[0m, \u001B[38;5;34m32\u001B[0m)             │         \u001B[38;5;34m2,080\u001B[0m │\n",
       "├─────────────────────────────────┼────────────────────────┼───────────────┤\n",
       "│ dropout_5 (\u001B[38;5;33mDropout\u001B[0m)             │ (\u001B[38;5;45mNone\u001B[0m, \u001B[38;5;34m32\u001B[0m)             │             \u001B[38;5;34m0\u001B[0m │\n",
       "├─────────────────────────────────┼────────────────────────┼───────────────┤\n",
       "│ dense_8 (\u001B[38;5;33mDense\u001B[0m)                 │ (\u001B[38;5;45mNone\u001B[0m, \u001B[38;5;34m1\u001B[0m)              │            \u001B[38;5;34m33\u001B[0m │\n",
       "└─────────────────────────────────┴────────────────────────┴───────────────┘\n"
      ]
     },
     "metadata": {},
     "output_type": "display_data"
    },
    {
     "data": {
      "text/html": [
       "<pre style=\"white-space:pre;overflow-x:auto;line-height:normal;font-family:Menlo,'DejaVu Sans Mono',consolas,'Courier New',monospace\"><span style=\"font-weight: bold\"> Total params: </span><span style=\"color: #00af00; text-decoration-color: #00af00\">8,641</span> (33.75 KB)\n",
       "</pre>\n"
      ],
      "text/plain": [
       "\u001B[1m Total params: \u001B[0m\u001B[38;5;34m8,641\u001B[0m (33.75 KB)\n"
      ]
     },
     "metadata": {},
     "output_type": "display_data"
    },
    {
     "data": {
      "text/html": [
       "<pre style=\"white-space:pre;overflow-x:auto;line-height:normal;font-family:Menlo,'DejaVu Sans Mono',consolas,'Courier New',monospace\"><span style=\"font-weight: bold\"> Trainable params: </span><span style=\"color: #00af00; text-decoration-color: #00af00\">8,641</span> (33.75 KB)\n",
       "</pre>\n"
      ],
      "text/plain": [
       "\u001B[1m Trainable params: \u001B[0m\u001B[38;5;34m8,641\u001B[0m (33.75 KB)\n"
      ]
     },
     "metadata": {},
     "output_type": "display_data"
    },
    {
     "data": {
      "text/html": [
       "<pre style=\"white-space:pre;overflow-x:auto;line-height:normal;font-family:Menlo,'DejaVu Sans Mono',consolas,'Courier New',monospace\"><span style=\"font-weight: bold\"> Non-trainable params: </span><span style=\"color: #00af00; text-decoration-color: #00af00\">0</span> (0.00 B)\n",
       "</pre>\n"
      ],
      "text/plain": [
       "\u001B[1m Non-trainable params: \u001B[0m\u001B[38;5;34m0\u001B[0m (0.00 B)\n"
      ]
     },
     "metadata": {},
     "output_type": "display_data"
    }
   ],
   "source": [
    "model = Sequential()\n",
    "model.add(Dense(64, activation='relu', input_dim=X.shape[1]))\n",
    "model.add(Dropout(0.5))\n",
    "model.add(Dense(32, activation='relu'))\n",
    "model.add(Dropout(0.5))\n",
    "model.add(Dense(1, activation='sigmoid'))\n",
    "\n",
    "model.compile(optimizer='adam', loss='binary_crossentropy', metrics=['accuracy'])\n",
    "model.summary()"
   ]
  },
  {
   "cell_type": "markdown",
   "id": "a2fec637",
   "metadata": {},
   "source": [
    "Entrenamiento de la red"
   ]
  },
  {
   "cell_type": "code",
   "execution_count": 30,
   "id": "4aae1d45",
   "metadata": {},
   "outputs": [
    {
     "name": "stdout",
     "output_type": "stream",
     "text": [
      "Epoch 1/20\n",
      "\u001B[1m22607/22607\u001B[0m \u001B[32m━━━━━━━━━━━━━━━━━━━━\u001B[0m\u001B[37m\u001B[0m \u001B[1m36s\u001B[0m 2ms/step - accuracy: 0.8904 - loss: 0.3052 - val_accuracy: 0.9320 - val_loss: 0.1981\n",
      "Epoch 2/20\n",
      "\u001B[1m22607/22607\u001B[0m \u001B[32m━━━━━━━━━━━━━━━━━━━━\u001B[0m\u001B[37m\u001B[0m \u001B[1m34s\u001B[0m 2ms/step - accuracy: 0.9266 - loss: 0.2156 - val_accuracy: 0.9350 - val_loss: 0.1890\n",
      "Epoch 3/20\n",
      "\u001B[1m22607/22607\u001B[0m \u001B[32m━━━━━━━━━━━━━━━━━━━━\u001B[0m\u001B[37m\u001B[0m \u001B[1m33s\u001B[0m 1ms/step - accuracy: 0.9295 - loss: 0.2125 - val_accuracy: 0.9361 - val_loss: 0.1864\n",
      "Epoch 4/20\n",
      "\u001B[1m22607/22607\u001B[0m \u001B[32m━━━━━━━━━━━━━━━━━━━━\u001B[0m\u001B[37m\u001B[0m \u001B[1m34s\u001B[0m 2ms/step - accuracy: 0.9312 - loss: 0.2049 - val_accuracy: 0.9372 - val_loss: 0.1835\n",
      "Epoch 5/20\n",
      "\u001B[1m22607/22607\u001B[0m \u001B[32m━━━━━━━━━━━━━━━━━━━━\u001B[0m\u001B[37m\u001B[0m \u001B[1m34s\u001B[0m 1ms/step - accuracy: 0.9324 - loss: 0.2027 - val_accuracy: 0.9385 - val_loss: 0.1813\n",
      "Epoch 6/20\n",
      "\u001B[1m22607/22607\u001B[0m \u001B[32m━━━━━━━━━━━━━━━━━━━━\u001B[0m\u001B[37m\u001B[0m \u001B[1m32s\u001B[0m 1ms/step - accuracy: 0.9329 - loss: 0.2012 - val_accuracy: 0.9392 - val_loss: 0.1794\n",
      "Epoch 7/20\n",
      "\u001B[1m22607/22607\u001B[0m \u001B[32m━━━━━━━━━━━━━━━━━━━━\u001B[0m\u001B[37m\u001B[0m \u001B[1m36s\u001B[0m 2ms/step - accuracy: 0.9337 - loss: 0.1993 - val_accuracy: 0.9402 - val_loss: 0.1778\n",
      "Epoch 8/20\n",
      "\u001B[1m22607/22607\u001B[0m \u001B[32m━━━━━━━━━━━━━━━━━━━━\u001B[0m\u001B[37m\u001B[0m \u001B[1m37s\u001B[0m 2ms/step - accuracy: 0.9347 - loss: 0.1988 - val_accuracy: 0.9410 - val_loss: 0.1758\n",
      "Epoch 9/20\n",
      "\u001B[1m22607/22607\u001B[0m \u001B[32m━━━━━━━━━━━━━━━━━━━━\u001B[0m\u001B[37m\u001B[0m \u001B[1m34s\u001B[0m 2ms/step - accuracy: 0.9356 - loss: 0.1962 - val_accuracy: 0.9403 - val_loss: 0.1755\n",
      "Epoch 10/20\n",
      "\u001B[1m22607/22607\u001B[0m \u001B[32m━━━━━━━━━━━━━━━━━━━━\u001B[0m\u001B[37m\u001B[0m \u001B[1m35s\u001B[0m 2ms/step - accuracy: 0.9358 - loss: 0.1966 - val_accuracy: 0.9419 - val_loss: 0.1732\n",
      "Epoch 11/20\n",
      "\u001B[1m22607/22607\u001B[0m \u001B[32m━━━━━━━━━━━━━━━━━━━━\u001B[0m\u001B[37m\u001B[0m \u001B[1m37s\u001B[0m 2ms/step - accuracy: 0.9360 - loss: 0.1945 - val_accuracy: 0.9416 - val_loss: 0.1736\n",
      "Epoch 12/20\n",
      "\u001B[1m22607/22607\u001B[0m \u001B[32m━━━━━━━━━━━━━━━━━━━━\u001B[0m\u001B[37m\u001B[0m \u001B[1m71s\u001B[0m 3ms/step - accuracy: 0.9369 - loss: 0.1935 - val_accuracy: 0.9438 - val_loss: 0.1693\n",
      "Epoch 13/20\n",
      "\u001B[1m22607/22607\u001B[0m \u001B[32m━━━━━━━━━━━━━━━━━━━━\u001B[0m\u001B[37m\u001B[0m \u001B[1m52s\u001B[0m 2ms/step - accuracy: 0.9371 - loss: 0.1926 - val_accuracy: 0.9435 - val_loss: 0.1708\n",
      "Epoch 14/20\n",
      "\u001B[1m22607/22607\u001B[0m \u001B[32m━━━━━━━━━━━━━━━━━━━━\u001B[0m\u001B[37m\u001B[0m \u001B[1m68s\u001B[0m 3ms/step - accuracy: 0.9370 - loss: 0.1946 - val_accuracy: 0.9432 - val_loss: 0.1705\n",
      "Epoch 15/20\n",
      "\u001B[1m22607/22607\u001B[0m \u001B[32m━━━━━━━━━━━━━━━━━━━━\u001B[0m\u001B[37m\u001B[0m \u001B[1m50s\u001B[0m 2ms/step - accuracy: 0.9369 - loss: 0.1959 - val_accuracy: 0.9441 - val_loss: 0.1681\n",
      "Epoch 16/20\n",
      "\u001B[1m22607/22607\u001B[0m \u001B[32m━━━━━━━━━━━━━━━━━━━━\u001B[0m\u001B[37m\u001B[0m \u001B[1m64s\u001B[0m 3ms/step - accuracy: 0.9375 - loss: 0.1939 - val_accuracy: 0.9439 - val_loss: 0.1688\n",
      "Epoch 17/20\n",
      "\u001B[1m22607/22607\u001B[0m \u001B[32m━━━━━━━━━━━━━━━━━━━━\u001B[0m\u001B[37m\u001B[0m \u001B[1m55s\u001B[0m 2ms/step - accuracy: 0.9378 - loss: 0.1910 - val_accuracy: 0.9417 - val_loss: 0.1719\n",
      "Epoch 18/20\n",
      "\u001B[1m22607/22607\u001B[0m \u001B[32m━━━━━━━━━━━━━━━━━━━━\u001B[0m\u001B[37m\u001B[0m \u001B[1m62s\u001B[0m 3ms/step - accuracy: 0.9377 - loss: 0.1925 - val_accuracy: 0.9443 - val_loss: 0.1675\n",
      "Epoch 19/20\n",
      "\u001B[1m22607/22607\u001B[0m \u001B[32m━━━━━━━━━━━━━━━━━━━━\u001B[0m\u001B[37m\u001B[0m \u001B[1m49s\u001B[0m 2ms/step - accuracy: 0.9382 - loss: 0.1909 - val_accuracy: 0.9444 - val_loss: 0.1676\n",
      "Epoch 20/20\n",
      "\u001B[1m22607/22607\u001B[0m \u001B[32m━━━━━━━━━━━━━━━━━━━━\u001B[0m\u001B[37m\u001B[0m \u001B[1m45s\u001B[0m 2ms/step - accuracy: 0.9388 - loss: 0.1893 - val_accuracy: 0.9442 - val_loss: 0.1675\n"
     ]
    }
   ],
   "source": [
    "history = model.fit(X_train, y_train, epochs=20, batch_size=64, validation_split=0.2)"
   ]
  },
  {
   "cell_type": "markdown",
   "id": "d9f991d0",
   "metadata": {},
   "source": [
    "Evaluación del modelo"
   ]
  },
  {
   "cell_type": "code",
   "execution_count": 31,
   "id": "3599dd5c",
   "metadata": {},
   "outputs": [
    {
     "name": "stdout",
     "output_type": "stream",
     "text": [
      "\u001B[1m14130/14130\u001B[0m \u001B[32m━━━━━━━━━━━━━━━━━━━━\u001B[0m\u001B[37m\u001B[0m \u001B[1m14s\u001B[0m 951us/step\n",
      "[[392675    583]\n",
      " [ 24476  34407]]\n",
      "              precision    recall  f1-score   support\n",
      "\n",
      "           0       0.94      1.00      0.97    393258\n",
      "           1       0.98      0.58      0.73     58883\n",
      "\n",
      "    accuracy                           0.94    452141\n",
      "   macro avg       0.96      0.79      0.85    452141\n",
      "weighted avg       0.95      0.94      0.94    452141\n",
      "\n"
     ]
    }
   ],
   "source": [
    "y_pred = (model.predict(X_test) > 0.5).astype(int)\n",
    "\n",
    "print(confusion_matrix(y_test, y_pred))\n",
    "print(classification_report(y_test, y_pred))"
   ]
  },
  {
   "cell_type": "markdown",
   "id": "856628fd",
   "metadata": {},
   "source": [
    "Probabilidad de impago"
   ]
  },
  {
   "cell_type": "code",
   "execution_count": 66,
   "id": "7f68b1b2",
   "metadata": {},
   "outputs": [
    {
     "name": "stdout",
     "output_type": "stream",
     "text": [
      "\u001B[1m14130/14130\u001B[0m \u001B[32m━━━━━━━━━━━━━━━━━━━━\u001B[0m\u001B[37m\u001B[0m \u001B[1m11s\u001B[0m 747us/step\n",
      "[[0.04572156]\n",
      " [0.01494699]\n",
      " [0.04282269]\n",
      " [0.00214593]\n",
      " [0.7534716 ]\n",
      " [0.00517923]\n",
      " [0.04318774]\n",
      " [0.03640305]\n",
      " [0.98908305]\n",
      " [0.00963674]]\n",
      "Index(['feature_0', 'feature_1', 'feature_2', 'feature_3', 'feature_4',\n",
      "       'feature_5', 'feature_6', 'feature_7', 'feature_8', 'feature_9',\n",
      "       ...\n",
      "       'feature_93', 'feature_94', 'feature_95', 'feature_96', 'feature_97',\n",
      "       'feature_98', 'feature_99', 'feature_100', 'probabilidad_impago',\n",
      "       'loan_status'],\n",
      "      dtype='object', length=103)\n"
     ]
    }
   ],
   "source": [
    "probabilidad_impago = model.predict(X_test)\n",
    "print(probabilidad_impago[:10])  #Probabilidad para los primeros 10 casos\n",
    "# Crear nombres genéricos para las columnas de X_test\n",
    "column_names = [f'feature_{i}' for i in range(X_test.shape[1])]\n",
    "df_test = pd.DataFrame(X_test, columns=column_names)\n",
    "# Añadiendo las columnas de probabilidad y estado del préstamo al DataFrame\n",
    "df_test['probabilidad_impago'] = probabilidad_impago.flatten()\n",
    "df_test['loan_status'] = y_test\n",
    "print(df_test.columns)\n"
   ]
  },
  {
   "cell_type": "markdown",
   "id": "637d9452",
   "metadata": {},
   "source": [
    "Respuestas a las preguntas del documento"
   ]
  },
  {
   "cell_type": "markdown",
   "id": "63f29e94",
   "metadata": {},
   "source": [
    "Considere el rendimiento de una inversión correspondiente al retorno anual de la inversión."
   ]
  },
  {
   "cell_type": "code",
   "execution_count": 54,
   "id": "2c35090d",
   "metadata": {},
   "outputs": [
    {
     "name": "stdout",
     "output_type": "stream",
     "text": [
      "Retorno anual promedio: -0.08592878535578063\n"
     ]
    }
   ],
   "source": [
    "#Paso 1: Calcular retorno bruto\n",
    "df['retorno'] = (df['total_pymnt_inv'] / df['loan_amnt']) - 1\n",
    "\n",
    "#Paso 2: Convertir 'term' a años\n",
    "df['term_years'] = df['term'].astype(str).apply(lambda x: int(x.strip().split()[0])) / 12\n",
    "\n",
    "#Paso 3: Calcular retorno anualizado\n",
    "df['retorno_anual'] = ((df['retorno'] + 1) ** (1 / df['term_years'])) - 1\n",
    "\n",
    "#Ver retorno anual promedio\n",
    "print(\"Retorno anual promedio:\", df['retorno_anual'].mean())\n"
   ]
  },
  {
   "cell_type": "markdown",
   "id": "0fad5112",
   "metadata": {},
   "source": [
    "¿Los préstamos cancelados, generaron algún tipo de retorno?"
   ]
  },
  {
   "cell_type": "code",
   "execution_count": 43,
   "id": "1e605dbe",
   "metadata": {},
   "outputs": [
    {
     "name": "stdout",
     "output_type": "stream",
     "text": [
      "count    268559.000000\n",
      "mean         -0.183924\n",
      "std           0.144814\n",
      "min          -1.000000\n",
      "25%          -0.263926\n",
      "50%          -0.167006\n",
      "75%          -0.079369\n",
      "max           0.294712\n",
      "Name: retorno_anual, dtype: float64\n"
     ]
    }
   ],
   "source": [
    "# Filtrar los préstamos cancelados\n",
    "cancelados = df[df['loan_status'] == 'Charged Off']\n",
    "\n",
    "# Ver descripción estadística del retorno anual de préstamos cancelados\n",
    "print(cancelados['retorno_anual'].describe())"
   ]
  },
  {
   "cell_type": "markdown",
   "id": "033350c5",
   "metadata": {},
   "source": [
    "¿Cómo se explica la variación de los retornos de los créditos cancelados con respecto a la categoría del crédito?"
   ]
  },
  {
   "cell_type": "code",
   "execution_count": 44,
   "id": "6d3617e8",
   "metadata": {},
   "outputs": [
    {
     "name": "stdout",
     "output_type": "stream",
     "text": [
      "grade\n",
      "A   -0.206839\n",
      "B   -0.193214\n",
      "C   -0.187275\n",
      "D   -0.183619\n",
      "E   -0.165887\n",
      "F   -0.157511\n",
      "G   -0.173076\n",
      "Name: retorno_anual, dtype: float64\n"
     ]
    }
   ],
   "source": [
    "# Agrupar préstamos cancelados por categoría y calcular retorno anual promedio\n",
    "retorno_por_categoria = cancelados.groupby('grade')['retorno_anual'].mean()\n",
    "print(retorno_por_categoria)"
   ]
  },
  {
   "cell_type": "markdown",
   "id": "4e59b63c",
   "metadata": {},
   "source": [
    "¿Existe diferencia entre el promedio de retorno de los créditos y la tasa de interés promedio? ¿Qué significa esta diferencia?"
   ]
  },
  {
   "cell_type": "code",
   "execution_count": 45,
   "id": "1eebdf9e",
   "metadata": {},
   "outputs": [
    {
     "name": "stdout",
     "output_type": "stream",
     "text": [
      "Tasa de interés promedio: 13.092829115111119\n",
      "Retorno anual promedio: -0.08592878535578063\n",
      "Diferencia: 13.1787579004669\n"
     ]
    }
   ],
   "source": [
    "# Calcular promedios\n",
    "retorno_promedio = df['retorno_anual'].mean()\n",
    "tasa_promedio = df['int_rate'].mean()\n",
    "diferencia = tasa_promedio - retorno_promedio\n",
    "\n",
    "# Mostrar resultados\n",
    "print(\"Tasa de interés promedio:\", tasa_promedio)\n",
    "print(\"Retorno anual promedio:\", retorno_promedio)\n",
    "print(\"Diferencia:\", diferencia)"
   ]
  },
  {
   "cell_type": "markdown",
   "id": "5ff336be",
   "metadata": {},
   "source": [
    "¿Asumiendo el rol del inversionista, en cuáles créditos preferiría invertir y cuáles son las razones que motivan la decisión?"
   ]
  },
  {
   "cell_type": "code",
   "execution_count": 69,
   "id": "e765bb61",
   "metadata": {},
   "outputs": [
    {
     "name": "stdout",
     "output_type": "stream",
     "text": [
      "Index(['loan_amnt', 'term', 'int_rate', 'installment', 'grade', 'sub_grade',\n",
      "       'emp_length', 'home_ownership', 'annual_inc', 'verification_status',\n",
      "       'purpose', 'dti', 'delinq_2yrs', 'fico_range_low', 'fico_range_high',\n",
      "       'inq_last_6mths', 'mths_since_last_delinq', 'mths_since_last_record',\n",
      "       'open_acc', 'total_acc', 'revol_bal', 'revol_util', 'application_type',\n",
      "       'acc_now_delinq', 'pub_rec_bankruptcies', 'mort_acc',\n",
      "       'num_tl_90g_dpd_24m', 'loan_status', 'total_pymnt_inv',\n",
      "       'chargeoff_within_12_mths', 'retorno', 'term_years', 'retorno_anual'],\n",
      "      dtype='object')\n",
      "Index(['feature_0', 'feature_1', 'feature_2', 'feature_3', 'feature_4',\n",
      "       'feature_5', 'feature_6', 'feature_7', 'feature_8', 'feature_9',\n",
      "       ...\n",
      "       'feature_93', 'feature_94', 'feature_95', 'feature_96', 'feature_97',\n",
      "       'feature_98', 'feature_99', 'feature_100', 'probabilidad_impago',\n",
      "       'loan_status'],\n",
      "      dtype='object', length=103)\n"
     ]
    }
   ],
   "source": [
    "print(df.columns)\n",
    "print(df_test.columns)"
   ]
  },
  {
   "cell_type": "code",
   "execution_count": 72,
   "id": "c27d6602",
   "metadata": {},
   "outputs": [],
   "source": [
    "# Filtrar los créditos que el inversionista podría preferir\n"
   ]
  },
  {
   "cell_type": "markdown",
   "id": "54966093",
   "metadata": {},
   "source": [
    "Construya al menos 3 atributos derivados que pueden utilizarse para predecir el impago del crédito. Justifique el atributo en términos del negocio. Justifique el nuevo atributo en términos del rendimiento del modelo."
   ]
  },
  {
   "cell_type": "code",
   "execution_count": 77,
   "id": "f7db8411",
   "metadata": {},
   "outputs": [
    {
     "name": "stdout",
     "output_type": "stream",
     "text": [
      "Ingreso mensual promedio: 6499.369057255596\n",
      "Cuota ingreso promedio: inf\n",
      "Empleo estable promedio: 0.5548433870733016\n"
     ]
    }
   ],
   "source": [
    "#Atributo 1\n",
    "df['ingreso_mensual'] = df['annual_inc'] / 12\n",
    "#Atributo 2\n",
    "df['cuota_ingreso']= df['installment'] / df['ingreso_mensual']\n",
    "#Atributo 3\n",
    "df['empleo_estable'] = df['emp_length'].apply(lambda x: 1 if str(x).strip().startswith(('5','6','7','8','9','10')) else 0)\n",
    "\n",
    "#Ver resultado de ingreso mensual promedio\n",
    "print(\"Ingreso mensual promedio:\", df['ingreso_mensual'].mean())\n",
    "#Ver resultado de cuota ingreso promedio\n",
    "print(\"Cuota ingreso promedio:\", df['cuota_ingreso'].mean())\n",
    "#Ver resultado de empleo estable promedio\n",
    "print(\"Empleo estable promedio:\", df['empleo_estable'].mean())\n"
   ]
  },
  {
   "cell_type": "markdown",
   "id": "d022686c",
   "metadata": {},
   "source": [
    "¿Cuáles variables debe excluir del análisis porque se consideran fuga de datos?"
   ]
  },
  {
   "cell_type": "code",
   "execution_count": null,
   "id": "69de4030",
   "metadata": {},
   "outputs": [],
   "source": []
  },
  {
   "cell_type": "markdown",
   "id": "346dd84a",
   "metadata": {},
   "source": [
    "¿Cuáles variables individuales son particularmente útiles para predecir la variable dependiente del estado del crédito?"
   ]
  },
  {
   "cell_type": "code",
   "execution_count": null,
   "id": "ef08011f",
   "metadata": {},
   "outputs": [],
   "source": []
  },
  {
   "cell_type": "markdown",
   "id": "2df1ea93",
   "metadata": {},
   "source": [
    "Construya una medida que relacione cada una de las variables independientes con la variable predictora. Considere que la variable a predecir es binaria, Describa la interpretación de la medida."
   ]
  },
  {
   "cell_type": "code",
   "execution_count": null,
   "id": "059955c4",
   "metadata": {},
   "outputs": [],
   "source": []
  }
 ],
 "metadata": {
  "kernelspec": {
   "display_name": "Python 3",
   "language": "python",
   "name": "python3"
  },
  "language_info": {
   "codemirror_mode": {
    "name": "ipython",
    "version": 3
   },
   "file_extension": ".py",
   "mimetype": "text/x-python",
   "name": "python",
   "nbconvert_exporter": "python",
   "pygments_lexer": "ipython3",
   "version": "3.11.1"
  }
 },
 "nbformat": 4,
 "nbformat_minor": 5
}
